{
 "cells": [
  {
   "cell_type": "code",
   "execution_count": 1,
   "id": "fce0a93e",
   "metadata": {},
   "outputs": [],
   "source": [
    "import math"
   ]
  },
  {
   "cell_type": "code",
   "execution_count": 2,
   "id": "dad7e232",
   "metadata": {},
   "outputs": [],
   "source": [
    "import math, sys"
   ]
  },
  {
   "cell_type": "code",
   "execution_count": 3,
   "id": "61494a3c",
   "metadata": {},
   "outputs": [
    {
     "ename": "ModuleNotFoundError",
     "evalue": "No module named 'scipy'",
     "output_type": "error",
     "traceback": [
      "\u001b[31m---------------------------------------------------------------------------\u001b[39m",
      "\u001b[31mModuleNotFoundError\u001b[39m                       Traceback (most recent call last)",
      "\u001b[36mCell\u001b[39m\u001b[36m \u001b[39m\u001b[32mIn[3]\u001b[39m\u001b[32m, line 3\u001b[39m\n\u001b[32m      1\u001b[39m \u001b[38;5;28;01mimport\u001b[39;00m\u001b[38;5;250m \u001b[39m\u001b[34;01mnumpy\u001b[39;00m\n\u001b[32m      2\u001b[39m \u001b[38;5;28;01mimport\u001b[39;00m\u001b[38;5;250m \u001b[39m\u001b[34;01mmath\u001b[39;00m\n\u001b[32m----> \u001b[39m\u001b[32m3\u001b[39m \u001b[38;5;28;01mimport\u001b[39;00m\u001b[38;5;250m \u001b[39m\u001b[34;01mscipy\u001b[39;00m\n\u001b[32m      5\u001b[39m \u001b[38;5;28mprint\u001b[39m(math.pi)\n\u001b[32m      6\u001b[39m \u001b[38;5;28mprint\u001b[39m(math.e)\n",
      "\u001b[31mModuleNotFoundError\u001b[39m: No module named 'scipy'"
     ]
    }
   ],
   "source": [
    "import numpy\n",
    "import math\n",
    "import scipy\n",
    "\n",
    "print(math.pi)\n",
    "print(math.e)\n",
    "print(numpy.pi)\n",
    "print(scipy.pi)\n",
    "#note: pi inside the module won't be affected by pi that we declare in main program"
   ]
  },
  {
   "cell_type": "code",
   "execution_count": 4,
   "id": "a72e1728",
   "metadata": {},
   "outputs": [
    {
     "name": "stdout",
     "output_type": "stream",
     "text": [
      "3.141592653589793\n",
      "2.718281828459045\n"
     ]
    }
   ],
   "source": [
    "from math import pi,e\n",
    "\n",
    "print(pi)\n",
    "print(e)\n",
    "\n",
    "# dir(math)"
   ]
  },
  {
   "cell_type": "code",
   "execution_count": 1,
   "id": "8fe8da67",
   "metadata": {},
   "outputs": [
    {
     "name": "stdout",
     "output_type": "stream",
     "text": [
      "1.0\n",
      "=====\n",
      "0.99999999\n"
     ]
    }
   ],
   "source": [
    "## override nilai sin dan pi\n",
    "from math import sin, pi\n",
    "\n",
    "print(sin(pi/2))\n",
    "\n",
    "print(\"=====\")\n",
    "\n",
    "pi = 3.14\n",
    "\n",
    "def sin(x):\n",
    "    if 2 * x == pi:\n",
    "        return 0.99999999\n",
    "    else:\n",
    "        return None\n",
    "\n",
    "print(sin(pi/2))"
   ]
  },
  {
   "cell_type": "code",
   "execution_count": null,
   "id": "ef8101a8",
   "metadata": {},
   "outputs": [],
   "source": [
    "from math import *\n",
    "print(tan(0))"
   ]
  },
  {
   "cell_type": "code",
   "execution_count": null,
   "id": "5f1203e3",
   "metadata": {},
   "outputs": [],
   "source": [
    "import math as m\n",
    "\n",
    "print(m.pi)\n"
   ]
  },
  {
   "cell_type": "code",
   "execution_count": null,
   "id": "64bfcae1",
   "metadata": {},
   "outputs": [],
   "source": [
    "from math import pi as PI, sin as sine\n",
    "\n",
    "print(sine(PI/2))"
   ]
  },
  {
   "cell_type": "code",
   "execution_count": null,
   "id": "44c1589f",
   "metadata": {},
   "outputs": [],
   "source": [
    "import math\n",
    "print(dir(math))"
   ]
  },
  {
   "cell_type": "code",
   "execution_count": null,
   "id": "c766c597",
   "metadata": {},
   "outputs": [],
   "source": [
    "import math\n",
    "\n",
    "a = math.pow(2,3)\n",
    "print(a)\n",
    "\n",
    "for name in dir(math):\n",
    "    print(name, end=\"\\t\")"
   ]
  },
  {
   "cell_type": "code",
   "execution_count": null,
   "id": "c30b02f8",
   "metadata": {},
   "outputs": [],
   "source": [
    "from math import pi, radians, degrees, sin, cos, tan, asin\n",
    "\n",
    "ad = 90\n",
    "\n",
    "ar = radians(ad)\n",
    "print(ar)\n",
    "ad = degrees(ar)\n",
    "print(ad)\n",
    "\n",
    "print(ad == 90.)\n",
    "print(ar == pi / 2.)\n",
    "print(sin(ar) / cos(ar) == tan(ar))\n",
    "print(asin(sin(ar)) == ar)"
   ]
  },
  {
   "cell_type": "code",
   "execution_count": null,
   "id": "a93162dc",
   "metadata": {},
   "outputs": [],
   "source": [
    "from math import e, exp, log\n",
    "\n",
    "print(pow(e, 1) == exp(log(e)))\n",
    "print(pow(2, 2) == exp(2 * log(2)))\n",
    "print(log(e, e) == exp(0))"
   ]
  },
  {
   "cell_type": "code",
   "execution_count": null,
   "id": "ca8245b8",
   "metadata": {},
   "outputs": [],
   "source": [
    "from math import ceil, floor, trunc\n",
    "\n",
    "x = 1.4\n",
    "y = 2.6\n",
    "\n",
    "print(floor(x), floor(y))\n",
    "print(floor(-x), floor(-y))\n",
    "print(ceil(x), ceil(y))\n",
    "print(ceil(-x), ceil(-y))\n",
    "print(trunc(x), trunc(y))\n",
    "print(trunc(-x), trunc(-y))"
   ]
  },
  {
   "cell_type": "code",
   "execution_count": null,
   "id": "602c5ccf",
   "metadata": {},
   "outputs": [],
   "source": [
    "from random import random\n",
    "for i in range(5):\n",
    "    print(random())"
   ]
  },
  {
   "cell_type": "code",
   "execution_count": null,
   "id": "8ba2a893",
   "metadata": {},
   "outputs": [],
   "source": [
    "# import random\n",
    "# dir(random)"
   ]
  },
  {
   "cell_type": "code",
   "execution_count": null,
   "id": "c88aaf7b",
   "metadata": {},
   "outputs": [],
   "source": [
    "# ini kode apa\n",
    "from random import randrange, randint\n",
    "\n",
    "print(randrange(200), end='\\n')\n",
    "print(randrange(50, 100), end='\\n')\n",
    "print(randrange(50, 200, 10), end='\\n')\n",
    "print(randint(5, 10))"
   ]
  },
  {
   "cell_type": "code",
   "execution_count": null,
   "id": "46d47657",
   "metadata": {},
   "outputs": [],
   "source": [
    "from random import choice, sample\n",
    "\n",
    "lst = [1, 2, 3, 4, 5, 6, 7, 8, 9, 10]\n",
    "siswa = ['Ani','Budi','Cakra','Desi']\n",
    "print(choice(siswa))\n",
    "print(sample(lst, 1))\n",
    "print(sample(lst, 10))"
   ]
  },
  {
   "cell_type": "code",
   "execution_count": null,
   "id": "fca5217b",
   "metadata": {},
   "outputs": [],
   "source": [
    "from random import randint\n",
    "\n",
    "for i in range(10):\n",
    "    print(randint(1, 10), end=',')"
   ]
  },
  {
   "cell_type": "code",
   "execution_count": null,
   "id": "3b35aa1e",
   "metadata": {},
   "outputs": [],
   "source": [
    "from platform import platform\n",
    "\n",
    "print(platform())\n",
    "print(platform(1))\n",
    "print(platform(0, 1))"
   ]
  },
  {
   "cell_type": "code",
   "execution_count": null,
   "id": "72ca0548",
   "metadata": {},
   "outputs": [],
   "source": [
    "# import platform\n",
    "# dir(platform)"
   ]
  },
  {
   "cell_type": "code",
   "execution_count": null,
   "id": "a0ce942a",
   "metadata": {},
   "outputs": [],
   "source": [
    "from platform import machine\n",
    "\n",
    "print(machine())"
   ]
  },
  {
   "cell_type": "code",
   "execution_count": null,
   "id": "e7ec37fe",
   "metadata": {},
   "outputs": [],
   "source": [
    "from platform import processor\n",
    "\n",
    "print(processor())"
   ]
  },
  {
   "cell_type": "code",
   "execution_count": null,
   "id": "ab1d1d88",
   "metadata": {},
   "outputs": [],
   "source": [
    "# aritmatika.py\n",
    "\n",
    "def tambah(a,b):\n",
    "    return a+b\n",
    "\n",
    "def kurang(a,b):\n",
    "    return a-b\n",
    "\n",
    "def kali(a,b):\n",
    "    return a*b\n",
    "\n",
    "def bagi(a,b):\n",
    "    return a/b"
   ]
  },
  {
   "cell_type": "code",
   "execution_count": null,
   "id": "dbc06944",
   "metadata": {},
   "outputs": [],
   "source": [
    "import aritmatika"
   ]
  },
  {
   "cell_type": "code",
   "execution_count": null,
   "id": "0ec7e35a",
   "metadata": {},
   "outputs": [],
   "source": [
    "a=aritmatika.tambah(3,4)\n",
    "b=aritmatika.kurang(3,4)\n",
    "c=aritmatika.kali(3,4)\n",
    "d=aritmatika.bagi(3,4)\n",
    "\n",
    "print(a)\n",
    "print(b)\n",
    "print(c)\n",
    "print(d)"
   ]
  },
  {
   "cell_type": "code",
   "execution_count": null,
   "id": "ce0072f5",
   "metadata": {},
   "outputs": [],
   "source": [
    "from aritmatika import tambah\n",
    "\n",
    "a=tambah(10,3)\n",
    "print(a)"
   ]
  },
  {
   "cell_type": "code",
   "execution_count": null,
   "id": "f4af72ea",
   "metadata": {},
   "outputs": [],
   "source": [
    "alpha.py\n",
    "def alphaSatu():\n",
    "\tprint(\"alpha   Satu\")\n",
    "\n",
    "def alphaDua():\n",
    "\tprint(\"alphaDua\")\n",
    "\n",
    "#beta.py\n",
    "# def betaSatu():\n",
    "# \tprint(\"betaSatu\")\n",
    "\n",
    "# def betaDua():\n",
    "# \tprint(\"betaDua\")\n",
    "\n",
    "#main.py\n",
    "\n",
    "# import latihan_package.alpha as a\n",
    "# import latihan_package.beta as b\n",
    "\n",
    "# a.alphaSatu()\n",
    "\n"
   ]
  },
  {
   "cell_type": "code",
   "execution_count": 5,
   "id": "5bd549fc",
   "metadata": {},
   "outputs": [
    {
     "ename": "FileNotFoundError",
     "evalue": "[WinError 3] The system cannot find the path specified: '/Users/masaboe/Documents/NGAJAR/2021/DTS FGA/Python PCAP'",
     "output_type": "error",
     "traceback": [
      "\u001b[31m---------------------------------------------------------------------------\u001b[39m",
      "\u001b[31mFileNotFoundError\u001b[39m                         Traceback (most recent call last)",
      "\u001b[36mCell\u001b[39m\u001b[36m \u001b[39m\u001b[32mIn[5]\u001b[39m\u001b[32m, line 5\u001b[39m\n\u001b[32m      1\u001b[39m \u001b[38;5;66;03m#cara mengakses package yang dibuat, copy dan paste code dalam file main.py\u001b[39;00m\n\u001b[32m      3\u001b[39m \u001b[38;5;28;01mimport\u001b[39;00m\u001b[38;5;250m \u001b[39m\u001b[34;01mos\u001b[39;00m\n\u001b[32m----> \u001b[39m\u001b[32m5\u001b[39m \u001b[43mos\u001b[49m\u001b[43m.\u001b[49m\u001b[43mchdir\u001b[49m\u001b[43m(\u001b[49m\u001b[33;43mr\u001b[39;49m\u001b[33;43m\"\u001b[39;49m\u001b[33;43m/Users/masaboe/Documents/NGAJAR/2021/DTS FGA/Python PCAP\u001b[39;49m\u001b[33;43m\"\u001b[39;49m\u001b[43m)\u001b[49m\n\u001b[32m      7\u001b[39m \u001b[38;5;28;01mimport\u001b[39;00m\u001b[38;5;250m \u001b[39m\u001b[34;01mlatihan_package\u001b[39;00m\u001b[34;01m.\u001b[39;00m\u001b[34;01malpha\u001b[39;00m\u001b[38;5;250m \u001b[39m\u001b[38;5;28;01mas\u001b[39;00m\u001b[38;5;250m \u001b[39m\u001b[34;01ma\u001b[39;00m,\u001b[38;5;250m \u001b[39m\u001b[34;01mlatihan_package\u001b[39;00m\u001b[34;01m.\u001b[39;00m\u001b[34;01mbeta\u001b[39;00m\u001b[38;5;250m \u001b[39m\u001b[38;5;28;01mas\u001b[39;00m\u001b[38;5;250m \u001b[39m\u001b[34;01mb\u001b[39;00m\n\u001b[32m      9\u001b[39m a.alphaSatu()\n",
      "\u001b[31mFileNotFoundError\u001b[39m: [WinError 3] The system cannot find the path specified: '/Users/masaboe/Documents/NGAJAR/2021/DTS FGA/Python PCAP'"
     ]
    }
   ],
   "source": [
    "#cara mengakses package yang dibuat, copy dan paste code dalam file main.py\n",
    "\n",
    "import os\n",
    "\n",
    "os.chdir(r\"/Users/masaboe/Documents/NGAJAR/2021/DTS FGA/Python PCAP\")\n",
    "\n",
    "import latihan_package.alpha as a, latihan_package.beta as b\n",
    "\n",
    "a.alphaSatu()\n",
    "b.betaSatu()"
   ]
  },
  {
   "cell_type": "code",
   "execution_count": null,
   "id": "9ab3a29b",
   "metadata": {},
   "outputs": [],
   "source": [
    "os.chdir(r\"E:\\CTA\\DIGITAL TALENT\\digital-talent\\2019\")"
   ]
  },
  {
   "cell_type": "code",
   "execution_count": null,
   "id": "bd7cac1c",
   "metadata": {},
   "outputs": [],
   "source": [
    "import os\n",
    "os.getcwd()\n",
    "\n",
    "print(os.getcwd())"
   ]
  },
  {
   "cell_type": "code",
   "execution_count": null,
   "id": "24a1488c",
   "metadata": {},
   "outputs": [],
   "source": [
    "os.chdir(r\"/Users/masaboe/Documents/NGAJAR/2021/DTS FGA/Python PCAP\")\n",
    "\n",
    "import latihan_package.alpha as a\n",
    "a.alphaSatu()"
   ]
  },
  {
   "cell_type": "code",
   "execution_count": null,
   "id": "6c49d4fc",
   "metadata": {},
   "outputs": [],
   "source": [
    "import alpha\n",
    "\n",
    "alpha.alphaSatu()"
   ]
  },
  {
   "cell_type": "code",
   "execution_count": null,
   "id": "aa0f1c7c",
   "metadata": {},
   "outputs": [],
   "source": [
    "pip --version"
   ]
  },
  {
   "cell_type": "code",
   "execution_count": null,
   "id": "e293f1b5",
   "metadata": {},
   "outputs": [],
   "source": [
    "pip help"
   ]
  }
 ],
 "metadata": {
  "kernelspec": {
   "display_name": "base",
   "language": "python",
   "name": "python3"
  },
  "language_info": {
   "codemirror_mode": {
    "name": "ipython",
    "version": 3
   },
   "file_extension": ".py",
   "mimetype": "text/x-python",
   "name": "python",
   "nbconvert_exporter": "python",
   "pygments_lexer": "ipython3",
   "version": "3.12.7"
  }
 },
 "nbformat": 4,
 "nbformat_minor": 5
}
