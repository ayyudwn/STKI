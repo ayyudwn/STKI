{
 "cells": [
  {
   "cell_type": "code",
   "execution_count": 1,
   "id": "1441cdec",
   "metadata": {},
   "outputs": [
    {
     "name": "stdout",
     "output_type": "stream",
     "text": [
      "Hello World!@#!#!$\n",
      "test\n"
     ]
    }
   ],
   "source": [
    "print(\"Hello World!@#!#!$\")\n",
    "print(\"test\")"
   ]
  },
  {
   "cell_type": "code",
   "execution_count": 2,
   "id": "c3b48cb8",
   "metadata": {},
   "outputs": [
    {
     "name": "stdout",
     "output_type": "stream",
     "text": [
      "Hello, Python!\n",
      "Abu\n",
      "Abu\n"
     ]
    }
   ],
   "source": [
    "print(\"Hello, Python!\")\n",
    "print(\"Abu\")\n",
    "print('Abu')"
   ]
  },
  {
   "cell_type": "code",
   "execution_count": 3,
   "id": "b3f9e647",
   "metadata": {},
   "outputs": [
    {
     "name": "stdout",
     "output_type": "stream",
     "text": [
      "\n",
      "Saya sudah sarapan tadi pagi\n",
      " dan nanti siang makan lagi\n",
      "Saya sudah sarapan tadi pagi\t dan nanti siang makan lagi\n"
     ]
    }
   ],
   "source": [
    "print()\n",
    "\n",
    "print(\"Saya sudah sarapan tadi pagi\\n dan nanti siang makan lagi\")\n",
    "print(\"Saya sudah sarapan tadi pagi\\t dan nanti siang makan lagi\")"
   ]
  },
  {
   "cell_type": "code",
   "execution_count": 4,
   "id": "25efc23a",
   "metadata": {},
   "outputs": [
    {
     "name": "stdout",
     "output_type": "stream",
     "text": [
      "nama saya \"abu\"\n"
     ]
    }
   ],
   "source": [
    "print(\"nama saya \\\"abu\\\"\")"
   ]
  },
  {
   "cell_type": "code",
   "execution_count": 5,
   "id": "4d17c65e",
   "metadata": {},
   "outputs": [
    {
     "name": "stdout",
     "output_type": "stream",
     "text": [
      "\"\n"
     ]
    }
   ],
   "source": [
    "print(\"\\\"\")"
   ]
  },
  {
   "cell_type": "code",
   "execution_count": 6,
   "id": "dee54553",
   "metadata": {},
   "outputs": [
    {
     "name": "stdout",
     "output_type": "stream",
     "text": [
      "satu. dua. tiga.\n"
     ]
    }
   ],
   "source": [
    "print(\"satu.\",\"dua.\",\"tiga.\")"
   ]
  },
  {
   "cell_type": "code",
   "execution_count": 7,
   "id": "bde99ee3",
   "metadata": {},
   "outputs": [
    {
     "name": "stdout",
     "output_type": "stream",
     "text": [
      "Nama saya nabila bila\n"
     ]
    }
   ],
   "source": [
    "print(\"Nama saya\",\"nabila\", end=\" \")\n",
    "print(\"bila\")"
   ]
  },
  {
   "cell_type": "code",
   "execution_count": 8,
   "id": "26bc3786",
   "metadata": {},
   "outputs": [
    {
     "name": "stdout",
     "output_type": "stream",
     "text": [
      "satu, dua, tiga\n"
     ]
    }
   ],
   "source": [
    "print(\"satu\",\"dua\",\"tiga\", sep=\", \")"
   ]
  },
  {
   "cell_type": "code",
   "execution_count": 9,
   "id": "8b718828",
   "metadata": {},
   "outputs": [
    {
     "name": "stdout",
     "output_type": "stream",
     "text": [
      "Programming Essentials in\n",
      "Python\n"
     ]
    }
   ],
   "source": [
    "#Clue\n",
    "print(\"Programming\",\"Essentials\",\"in\")\n",
    "print(\"Python\")"
   ]
  },
  {
   "cell_type": "code",
   "execution_count": 10,
   "id": "56917583",
   "metadata": {},
   "outputs": [
    {
     "name": "stdout",
     "output_type": "stream",
     "text": [
      "Programming***Essentials***in...PythonPython\n"
     ]
    }
   ],
   "source": [
    "#Programming***Essentials***in...PythonPython\n",
    "\n",
    "print(\"Programming\",\"Essentials\",\"in\", sep=\"***\", end=\"...\")\n",
    "print(\"Python\"*2)"
   ]
  },
  {
   "cell_type": "code",
   "execution_count": 11,
   "id": "90d35a71",
   "metadata": {},
   "outputs": [
    {
     "name": "stdout",
     "output_type": "stream",
     "text": [
      "    *        *    \n",
      "   * *      * *   \n",
      "  *   *    *   *  \n",
      " *     *  *     * \n",
      "***   ******   ***\n",
      "  *   *    *   *  \n",
      "  *   *    *   *  \n",
      "  *****    *****  \n"
     ]
    }
   ],
   "source": [
    "#clue\n",
    "\n",
    "print(\"    *    \"*2)\n",
    "print(\"   * *   \"*2)\n",
    "print(\"  *   *  \"*2)\n",
    "print(\" *     * \"*2)\n",
    "print(\"***   ***\"*2)\n",
    "print(\"  *   *  \"*2)\n",
    "print(\"  *   *  \"*2)\n",
    "print(\"  *****  \"*2)"
   ]
  },
  {
   "cell_type": "code",
   "execution_count": 12,
   "id": "a750f53d",
   "metadata": {},
   "outputs": [
    {
     "name": "stdout",
     "output_type": "stream",
     "text": [
      "    *\n",
      "   * *\n",
      "  *   *\n",
      " *     *\n",
      "***   ***\n",
      "  *   *\n",
      "  *   *\n",
      "  *****\n",
      "    *\n",
      "   * *\n",
      "  *   *\n",
      " *     *\n",
      "***   ***\n",
      "  *   *\n",
      "  *   *\n",
      "  *****\n",
      "\n"
     ]
    }
   ],
   "source": [
    "print(\"    *\\n   * *\\n  *   *\\n *     *\\n***   ***\\n  *   *\\n  *   *\\n  *****\\n\"*2)"
   ]
  },
  {
   "cell_type": "code",
   "execution_count": 13,
   "id": "45649c78",
   "metadata": {},
   "outputs": [
    {
     "name": "stdout",
     "output_type": "stream",
     "text": [
      "22\n",
      "4\n",
      "<class 'str'>\n",
      "<class 'int'>\n"
     ]
    }
   ],
   "source": [
    "print(\"2\"*2)\n",
    "print(2*2)\n",
    "\n",
    "print(type(\"2\"))\n",
    "print(type(2))"
   ]
  },
  {
   "cell_type": "code",
   "execution_count": 14,
   "id": "8f1e8052",
   "metadata": {},
   "outputs": [
    {
     "name": "stdout",
     "output_type": "stream",
     "text": [
      "5 mempunyai tipe <class 'int'>\n",
      "0.5 mempunyai tipe <class 'float'>\n"
     ]
    }
   ],
   "source": [
    "print(5, \"mempunyai tipe\", type(5))\n",
    "print(.5, \"mempunyai tipe\", type(.5))"
   ]
  },
  {
   "cell_type": "code",
   "execution_count": null,
   "id": "a22cbe41",
   "metadata": {},
   "outputs": [],
   "source": []
  },
  {
   "cell_type": "code",
   "execution_count": 15,
   "id": "dba9b24f",
   "metadata": {},
   "outputs": [
    {
     "name": "stdout",
     "output_type": "stream",
     "text": [
      "True\n",
      "False\n",
      "True\n",
      "False\n"
     ]
    }
   ],
   "source": [
    "print(True)\n",
    "print(False)\n",
    "\n",
    "print(4>2)\n",
    "print(3>4)"
   ]
  },
  {
   "cell_type": "code",
   "execution_count": 16,
   "id": "4dd627d6",
   "metadata": {},
   "outputs": [
    {
     "name": "stdout",
     "output_type": "stream",
     "text": [
      "\n"
     ]
    }
   ],
   "source": [
    "print()"
   ]
  },
  {
   "cell_type": "code",
   "execution_count": 17,
   "id": "32ffd5c0",
   "metadata": {},
   "outputs": [
    {
     "name": "stdout",
     "output_type": "stream",
     "text": [
      "\"I'm\"\n",
      "\"\"learning\"\"\n",
      "\"\"\"Python\"\"\"\n",
      "\n",
      "\"I'm\"\n",
      "\"\"learning\"\"\n",
      "\"\"\"Python\"\"\"\n",
      "\n"
     ]
    }
   ],
   "source": [
    "print('\"I\\'m\"\\n\"\"learning\"\"\\n\"\"\"Python\"\"\"')\n",
    "\n",
    "print(\"\"\"\n",
    "\"I'm\"\n",
    "\"\"learning\"\"\n",
    "\\\"\"\"Python\"\"\\\"\n",
    "\"\"\")"
   ]
  },
  {
   "cell_type": "code",
   "execution_count": 18,
   "id": "dce2407d",
   "metadata": {},
   "outputs": [
    {
     "name": "stdout",
     "output_type": "stream",
     "text": [
      "8\n",
      "8.0\n",
      "8.0\n",
      "8.0\n"
     ]
    }
   ],
   "source": [
    "print(2 ** 3)\n",
    "print(2 ** 3.)\n",
    "print(2. ** 3.)\n",
    "print(2. ** 3)"
   ]
  },
  {
   "cell_type": "code",
   "execution_count": 19,
   "id": "a3bf03aa",
   "metadata": {},
   "outputs": [
    {
     "name": "stdout",
     "output_type": "stream",
     "text": [
      "3.3333333333333335\n",
      "3\n",
      "2.0\n",
      "2.0\n",
      "0\n",
      "4.0\n"
     ]
    }
   ],
   "source": [
    "print(10 / 3)\n",
    "print(10 // 3)\n",
    "\n",
    "print(6 / 3.)\n",
    "print(6 // 3.)\n",
    "\n",
    "print(-4 + 4)\n",
    "print(-4. + 8)"
   ]
  },
  {
   "cell_type": "code",
   "execution_count": 20,
   "id": "8c312413",
   "metadata": {},
   "outputs": [
    {
     "data": {
      "text/plain": [
       "17"
      ]
     },
     "execution_count": 20,
     "metadata": {},
     "output_type": "execute_result"
    }
   ],
   "source": [
    "2 + 3 *5"
   ]
  },
  {
   "cell_type": "code",
   "execution_count": 21,
   "id": "3f516071",
   "metadata": {},
   "outputs": [
    {
     "name": "stdout",
     "output_type": "stream",
     "text": [
      "1\n",
      "3\n",
      "1\n",
      "256\n",
      "4\n",
      "256\n"
     ]
    }
   ],
   "source": [
    "print(9 % 6 % 2)\n",
    "print(9 % 6)\n",
    "print(3 % 2)\n",
    "\n",
    "print(2 ** 2 ** 3)\n",
    "print(2 ** 2)\n",
    "print(2 ** 8)"
   ]
  },
  {
   "cell_type": "code",
   "execution_count": 22,
   "id": "205b269b",
   "metadata": {},
   "outputs": [
    {
     "name": "stdout",
     "output_type": "stream",
     "text": [
      "10.0\n"
     ]
    }
   ],
   "source": [
    "print((5 * ((25 % 13)+100) / (2 * 13)) // 2)"
   ]
  },
  {
   "cell_type": "code",
   "execution_count": 23,
   "id": "3c795eb7",
   "metadata": {},
   "outputs": [
    {
     "name": "stdout",
     "output_type": "stream",
     "text": [
      "1\n"
     ]
    }
   ],
   "source": [
    "var = 1\n",
    "print(var)"
   ]
  },
  {
   "cell_type": "code",
   "execution_count": 24,
   "id": "a8d68889",
   "metadata": {},
   "outputs": [
    {
     "name": "stdout",
     "output_type": "stream",
     "text": [
      "c =  3.605551275463989\n"
     ]
    }
   ],
   "source": [
    "a=2.\n",
    "b=3.\n",
    "c=(a**2 + b**2) ** 0.5\n",
    "print(\"c = \", c)"
   ]
  },
  {
   "cell_type": "code",
   "execution_count": 25,
   "id": "f40d171f",
   "metadata": {},
   "outputs": [],
   "source": [
    "Darjo = 2\n",
    "Darno = 5\n",
    "Waginem = 6"
   ]
  },
  {
   "cell_type": "code",
   "execution_count": 26,
   "id": "70f75a72",
   "metadata": {},
   "outputs": [
    {
     "name": "stdout",
     "output_type": "stream",
     "text": [
      "7.38 1 mil adalah 11.88 kilometer\n",
      "12.25 1 kilometer adalah 7.61 mil\n"
     ]
    }
   ],
   "source": [
    "kilometer = 12.25\n",
    "mil = 7.38\n",
    "\n",
    "miles_to_kilometers = mil * 1.61\n",
    "kilometers_to_miles = kilometer / 1.61\n",
    "\n",
    "print(mil, \"1 mil adalah\", round(miles_to_kilometers, 2), \"kilometer\")\n",
    "print(kilometer, \"1 kilometer adalah\", round(kilometers_to_miles, 2), \"mil\")"
   ]
  },
  {
   "cell_type": "code",
   "execution_count": 27,
   "id": "47e71a21",
   "metadata": {},
   "outputs": [
    {
     "name": "stdout",
     "output_type": "stream",
     "text": [
      "3\n"
     ]
    }
   ],
   "source": [
    "var = 2\n",
    "var = 3\n",
    "print(var)"
   ]
  },
  {
   "cell_type": "code",
   "execution_count": 28,
   "id": "77a688c9",
   "metadata": {},
   "outputs": [
    {
     "name": "stdout",
     "output_type": "stream",
     "text": [
      "Hai...\n"
     ]
    }
   ],
   "source": [
    "#test\n",
    "print(\"Hai...\") \n",
    "#test1\n",
    "#test2"
   ]
  },
  {
   "cell_type": "code",
   "execution_count": 29,
   "id": "8dae97c3",
   "metadata": {},
   "outputs": [
    {
     "name": "stdout",
     "output_type": "stream",
     "text": [
      "Katakan sesuatu...\n",
      "mmmmm   Oke\n"
     ]
    }
   ],
   "source": [
    "print(\"Katakan sesuatu...\")\n",
    "sesuatu = input()\n",
    "print(\"mmmmm\", sesuatu, \" Oke\")"
   ]
  },
  {
   "cell_type": "code",
   "execution_count": 30,
   "id": "a80d6753",
   "metadata": {},
   "outputs": [
    {
     "name": "stdout",
     "output_type": "stream",
     "text": [
      "Pangkat duanya adalah  25.0\n"
     ]
    }
   ],
   "source": [
    "angka = float(5)\n",
    "print(\"Pangkat duanya adalah \", angka**2)"
   ]
  },
  {
   "cell_type": "code",
   "execution_count": 31,
   "id": "4a42ea5e",
   "metadata": {},
   "outputs": [
    {
     "name": "stdout",
     "output_type": "stream",
     "text": [
      "+----------+\n",
      "|          |\n",
      "|          |\n",
      "|          |\n",
      "|          |\n",
      "|          |\n",
      "+----------+\n"
     ]
    }
   ],
   "source": [
    "print(\"+\" + 10*\"-\" + \"+\")\n",
    "print((\"|\" + 10*\" \" + \"|\\n\") * 5, end=\"\")\n",
    "print(\"+\" + 10*\"-\" + \"+\")"
   ]
  },
  {
   "cell_type": "code",
   "execution_count": 32,
   "id": "82cddb2f",
   "metadata": {},
   "outputs": [
    {
     "name": "stdout",
     "output_type": "stream",
     "text": [
      "\n",
      "Hasil Penjumlahan : 15.0\n",
      "Hasil Pengurangan : -3.0\n",
      "Hasil Perkalian   : 54.0\n",
      "Hasil Pembagian   : 0.6666666666666666\n",
      "\n",
      "Yeahhhh\n"
     ]
    }
   ],
   "source": [
    "# Masukkan nilai a dalam float\n",
    "a = float(6)\n",
    "\n",
    "# Masukkan nilai b dalam float\n",
    "b = float(9)\n",
    "\n",
    "# hitung hasil penambahan\n",
    "tambah = a + b\n",
    "\n",
    "# hitung hasil pengurangan\n",
    "kurang = a - b\n",
    "\n",
    "# hitung hasil perkalian\n",
    "kali = a * b\n",
    "\n",
    "# hitung hasil pembagian\n",
    "bagi = a / b\n",
    "\n",
    "print(\"\\nHasil Penjumlahan :\", tambah)\n",
    "print(\"Hasil Pengurangan :\", kurang)\n",
    "print(\"Hasil Perkalian   :\", kali)\n",
    "print(\"Hasil Pembagian   :\", bagi)\n",
    "\n",
    "print(\"\\nYeahhhh\")"
   ]
  },
  {
   "cell_type": "code",
   "execution_count": 33,
   "id": "a0aaada4",
   "metadata": {},
   "outputs": [
    {
     "name": "stdout",
     "output_type": "stream",
     "text": [
      "x = 1\n",
      "y = 0.8414709848078965\n",
      "\n",
      "x = 10\n",
      "y = -0.005440211108893697\n",
      "\n"
     ]
    }
   ],
   "source": [
    "# Contoh perhitungan ekspresi\n",
    "import math\n",
    "\n",
    "# uji dengan x=1 dan x=10\n",
    "for x in [1, 10]:\n",
    "    y = math.sin(x) / x**2   # contoh rumus, bisa disesuaikan\n",
    "    print(\"x =\", x)\n",
    "    print(\"y =\", y)\n",
    "    print()\n"
   ]
  }
 ],
 "metadata": {
  "kernelspec": {
   "display_name": "venv",
   "language": "python",
   "name": "python3"
  },
  "language_info": {
   "codemirror_mode": {
    "name": "ipython",
    "version": 3
   },
   "file_extension": ".py",
   "mimetype": "text/x-python",
   "name": "python",
   "nbconvert_exporter": "python",
   "pygments_lexer": "ipython3",
   "version": "3.13.7"
  }
 },
 "nbformat": 4,
 "nbformat_minor": 5
}
