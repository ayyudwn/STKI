{
 "cells": [
  {
   "cell_type": "code",
   "execution_count": 1,
   "id": "07e32458",
   "metadata": {},
   "outputs": [
    {
     "name": "stdout",
     "output_type": "stream",
     "text": [
      "Angka 1 :\n"
     ]
    },
    {
     "ename": "ValueError",
     "evalue": "invalid literal for int() with base 10: ''",
     "output_type": "error",
     "traceback": [
      "\u001b[31m---------------------------------------------------------------------------\u001b[39m",
      "\u001b[31mValueError\u001b[39m                                Traceback (most recent call last)",
      "\u001b[36mCell\u001b[39m\u001b[36m \u001b[39m\u001b[32mIn[1]\u001b[39m\u001b[32m, line 4\u001b[39m\n\u001b[32m      1\u001b[39m \u001b[38;5;66;03m# Motivasi function adalah perulangan kode\u001b[39;00m\n\u001b[32m      3\u001b[39m \u001b[38;5;28mprint\u001b[39m(\u001b[33m\"\u001b[39m\u001b[33mAngka 1 :\u001b[39m\u001b[33m\"\u001b[39m)\n\u001b[32m----> \u001b[39m\u001b[32m4\u001b[39m a = \u001b[38;5;28;43mint\u001b[39;49m\u001b[43m(\u001b[49m\u001b[38;5;28;43minput\u001b[39;49m\u001b[43m(\u001b[49m\u001b[43m)\u001b[49m\u001b[43m)\u001b[49m\n\u001b[32m      5\u001b[39m \u001b[38;5;28mprint\u001b[39m(a)\n\u001b[32m      7\u001b[39m \u001b[38;5;28mprint\u001b[39m(\u001b[33m\"\u001b[39m\u001b[33mAngka 2 :\u001b[39m\u001b[33m\"\u001b[39m)\n",
      "\u001b[31mValueError\u001b[39m: invalid literal for int() with base 10: ''"
     ]
    }
   ],
   "source": [
    "# Motivasi function adalah perulangan kode\n",
    "\n",
    "print(\"Angka 1 :\")\n",
    "a = int(input())\n",
    "print(a)\n",
    "\n",
    "print(\"Angka 2 :\")\n",
    "b = int(input())\n",
    "print(b)\n",
    "\n",
    "print(\"Angka 3 :\")\n",
    "c = int(input())\n",
    "print(c)"
   ]
  },
  {
   "cell_type": "code",
   "execution_count": null,
   "id": "ce507914",
   "metadata": {},
   "outputs": [],
   "source": [
    "def inputAngka():\n",
    "    print(\"Input Angka :\")\n",
    "    a = int(input())\n",
    "    print(a)\n",
    "    \n",
    "print(\"Start disini... \")\n",
    "\n",
    "inputAngka()\n",
    "inputAngka()\n",
    "inputAngka()\n",
    "\n",
    "print(\"Stop disini... \")"
   ]
  },
  {
   "cell_type": "code",
   "execution_count": null,
   "id": "6ce7fa21",
   "metadata": {},
   "outputs": [],
   "source": [
    "def pesan(m):\n",
    "    print(\"Pesan \",m.lower())\n",
    "    \n",
    "pesan(\"Hallo\")\n",
    "pesan(\"Namanya siapa ?\")"
   ]
  },
  {
   "cell_type": "code",
   "execution_count": null,
   "id": "da1e4732",
   "metadata": {},
   "outputs": [],
   "source": [
    "def pesan(nama, nohp):\n",
    "    print(\"Nama : \",nama, \"No Hp : \",nohp)\n",
    "    \n",
    "pesan(\"Abu\", 123)\n",
    "pesan(\"Abu\", \"0817244\")"
   ]
  },
  {
   "cell_type": "code",
   "execution_count": null,
   "id": "41efb6af",
   "metadata": {},
   "outputs": [],
   "source": [
    "def tambahUsia(nama, umur):\n",
    "    umur = umur + 0.5\n",
    "    print(nama, umur)\n",
    "\n",
    "tambahUsia(\"Abu Salam\", 30)"
   ]
  },
  {
   "cell_type": "code",
   "execution_count": null,
   "id": "8d7bb93a",
   "metadata": {},
   "outputs": [],
   "source": [
    "def perkenalan(namaDepan, namaBelakang):\n",
    "    print(\"Hallo namanya adalah : \", namaDepan, namaBelakang)\n",
    "\n",
    "perkenalan(\"Abu\",\"Salam\")\n",
    "perkenalan(\"Dhita\",\"Aulia\")"
   ]
  },
  {
   "cell_type": "code",
   "execution_count": null,
   "id": "37b3d797",
   "metadata": {},
   "outputs": [],
   "source": [
    "perkenalan(namaDepan = \"Abu2\", namaBelakang = \"salam2\")\n",
    "perkenalan(namaBelakang = \"aulia2\", namaDepan = \"dhita2\")"
   ]
  },
  {
   "cell_type": "code",
   "execution_count": null,
   "id": "a86084ba",
   "metadata": {},
   "outputs": [],
   "source": [
    "def jumlah(a, b, c):\n",
    "    print(a, \"+\", b, \"+\", c, \"=\", a + b + c)\n",
    "    \n",
    "jumlah(5,5,4)"
   ]
  },
  {
   "cell_type": "code",
   "execution_count": null,
   "id": "14a4c877",
   "metadata": {},
   "outputs": [],
   "source": [
    "def introduction(firstName=\"John\",lastName=\"Smith\"):\n",
    "    print(\"Hello, my name is\", firstName, lastName)\n",
    "    \n",
    "#Call the Function here\n",
    "introduction(firstName=\"Abu\")\n",
    "introduction(firstName=\"Abu\", lastName=\"Salam\")\n",
    "introduction(\"Abu\", lastName=\"Salam\")"
   ]
  },
  {
   "cell_type": "code",
   "execution_count": null,
   "id": "4af1f278",
   "metadata": {},
   "outputs": [],
   "source": [
    "def introductionLengkap(firstName, lastName, middleName=\"Guntur\"):\n",
    "    print(\"Hello, my name is\", firstName, middleName, lastName)\n",
    "    \n",
    "#Call the Function here\n",
    "introductionLengkap(firstName=\"Abu\", lastName=\"Salam\", middleName=\"alex\")"
   ]
  },
  {
   "cell_type": "code",
   "execution_count": null,
   "id": "6962d51a",
   "metadata": {},
   "outputs": [],
   "source": [
    "def hitungLuasLingkaran(r):\n",
    "    import math\n",
    "    pi = math.pi\n",
    "    luas = pi * r * r\n",
    "    return luas\n",
    "\n",
    "# buat sebuah fungsi untuk menghitung luas segitiga\n",
    "def hitungLuasSegitiga(a,t):\n",
    "    luas = 0.5 * a * t\n",
    "    return luas\n",
    "\n",
    "\n",
    "x = hitungLuasLingkaran(6)\n",
    "y = hitungLuasSegitiga(5,10)\n",
    "\n",
    "print(x)\n",
    "print(y)"
   ]
  },
  {
   "cell_type": "code",
   "execution_count": null,
   "id": "34c6b70c",
   "metadata": {},
   "outputs": [],
   "source": [
    "def boringFunction():\n",
    "    print(\"'Boredom Mode' ON.\")\n",
    "    return 123\n",
    "\n",
    "print(\"This Lesson is interesting!\")\n",
    "x = boringFunction()\n",
    "print(x)\n",
    "print(\"test\")"
   ]
  },
  {
   "cell_type": "code",
   "execution_count": null,
   "id": "4db8974c",
   "metadata": {},
   "outputs": [],
   "source": [
    "def jumlah(a,b):\n",
    "    c = a + b\n",
    "    return c\n",
    "\n",
    "a = jumlah(3,4)\n",
    "print(a)"
   ]
  },
  {
   "cell_type": "code",
   "execution_count": null,
   "id": "3c71affb",
   "metadata": {},
   "outputs": [],
   "source": [
    "def strangeFunction(n):\n",
    "    if(n % 2 == 0):\n",
    "        return True\n",
    "\n",
    "#Call the Function here\n",
    "\n",
    "print(strangeFunction(4))\n",
    "print(strangeFunction(3))"
   ]
  },
  {
   "cell_type": "code",
   "execution_count": null,
   "id": "9f851ffe",
   "metadata": {},
   "outputs": [],
   "source": [
    "def sumOfList(lst):\n",
    "    sum = 0\n",
    "    \n",
    "    for elem in lst:\n",
    "        sum += elem\n",
    "    \n",
    "    return sum\n",
    "\n",
    "#Call the Function here\n",
    "x = sumOfList([2,2,2,2,2])\n",
    "print(x)"
   ]
  },
  {
   "cell_type": "code",
   "execution_count": null,
   "id": "f458158a",
   "metadata": {},
   "outputs": [],
   "source": [
    "def strangeListFunction(n):\n",
    "    strangeList = []\n",
    "    \n",
    "    for i in range(0, n):\n",
    "        print(\"Insert\",i)\n",
    "        strangeList.insert(0, i)\n",
    "        print(strangeList)\n",
    "        \n",
    "    return strangeList\n",
    "\n",
    "#Call the Function here\n",
    "print(\"Hasil : \", strangeListFunction(10))"
   ]
  },
  {
   "cell_type": "code",
   "execution_count": null,
   "id": "bc6720e8",
   "metadata": {},
   "outputs": [],
   "source": [
    "# Function Test tahun Kabisat\n",
    "def isYearLeap(year):\n",
    "    if (year % 4) == 0:\n",
    "        if (year % 100) == 0:\n",
    "            if (year % 400) == 0:\n",
    "                return True\n",
    "            else:\n",
    "                return False\n",
    "        else:\n",
    "            return True\n",
    "    else:\n",
    "        return False\n",
    "\n",
    "testData = [1900, 2000, 2016, 1987,2004]\n",
    "testResults = [False, True, True, False, True]\n",
    "for i in range(len(testData)):\n",
    "    yr = testData[i]\n",
    "    print(yr,\"->\",end=\"\")\n",
    "    result = isYearLeap(yr)\n",
    "    if result == testResults[i]:\n",
    "        print(\"OK\")\n",
    "    else:\n",
    "        print(\"Failed\")"
   ]
  },
  {
   "cell_type": "code",
   "execution_count": null,
   "id": "b6eacb1d",
   "metadata": {},
   "outputs": [],
   "source": [
    "def scopeTest():\n",
    "    print(a)\n",
    "    b = 120\n",
    "    print(b)\n",
    "\n",
    "#Call the Function here\n",
    "\n",
    "a = 90\n",
    "scopeTest()"
   ]
  },
  {
   "cell_type": "code",
   "execution_count": null,
   "id": "33478169",
   "metadata": {},
   "outputs": [],
   "source": [
    "def myFunction():\n",
    "    print(\"Do I know that variable?\", var)\n",
    "\n",
    "#Call the Function here\n",
    "var = 1\n",
    "myFunction()\n",
    "print(var)\n",
    "\n",
    "# The answer is: a variable existing outside a function \n",
    "# has a scope inside the functions' bodies."
   ]
  },
  {
   "cell_type": "code",
   "execution_count": null,
   "id": "c11d8326",
   "metadata": {},
   "outputs": [],
   "source": [
    "def myFunction():\n",
    "    global var\n",
    "    var = 2\n",
    "    print(\"Do I know that variable?\", var)\n",
    "\n",
    "#Call the Function here\n",
    "var = 1\n",
    "myFunction()\n",
    "print(var)\n",
    "\n",
    "# There's a special Python method which can extend a variable's scope \n",
    "# in a way which includes the functions' bodies \n",
    "# (even if you want not only to read the values, but also to modify them)."
   ]
  },
  {
   "cell_type": "code",
   "execution_count": null,
   "id": "b32047ee",
   "metadata": {},
   "outputs": [],
   "source": [
    "def myFunction(n):\n",
    "    print(\"I got\", n)\n",
    "    n += 1\n",
    "    print(\"I have\", n)\n",
    "\n",
    "#Call the Function here\n",
    "var = 1\n",
    "myFunction(var)\n",
    "\n",
    "print(var)\n",
    "\n",
    "#changing the parameter's value doesn't propagate outside the function"
   ]
  },
  {
   "cell_type": "code",
   "execution_count": null,
   "id": "5089d827",
   "metadata": {},
   "outputs": [],
   "source": [
    "def bmi(weight, height):\n",
    "    return weight / height ** 2\n",
    "\n",
    "print(bmi(65, 1.69))"
   ]
  },
  {
   "cell_type": "code",
   "execution_count": null,
   "id": "b893ab7f",
   "metadata": {},
   "outputs": [],
   "source": [
    "def bmi(weight, height):\n",
    "    if height < 1.0 \\\n",
    "    or height > 2.5 \\\n",
    "    or weight < 20 \\\n",
    "    or weight > 200:\n",
    "        return None\n",
    "    \n",
    "    return weight / height ** 2\n",
    "\n",
    "print(bmi(70, 1.69))"
   ]
  },
  {
   "cell_type": "code",
   "execution_count": null,
   "id": "1da57cad",
   "metadata": {},
   "outputs": [],
   "source": [
    "def isItATriangle(a, b, c):\n",
    "    if a + b <= c:\n",
    "        return False\n",
    "    if b + c <= a:\n",
    "        return False\n",
    "    if c + a <= b:\n",
    "        return False\n",
    "    \n",
    "    return True\n",
    "\n",
    "#Call the Function here\n",
    "print(isItATriangle(1,1,1))\n",
    "print(isItATriangle(1,2,2))"
   ]
  },
  {
   "cell_type": "code",
   "execution_count": null,
   "id": "95da0e66",
   "metadata": {},
   "outputs": [],
   "source": [
    "def isItATriangle(a, b, c):\n",
    "    return a + b > c and b + c > a and c + a > b\n",
    "\n",
    "a = float(input(\"Enter the first side's length: \"))\n",
    "b = float(input(\"Enter the second side's length: \"))\n",
    "c = float(input(\"Enter the third side's length: \"))\n",
    "\n",
    "if isItATriangle(a, b, c):\n",
    "    print(\"Congratulations - it can be a triangle.\")\n",
    "else:\n",
    "    print(\"Sorry, it won't be a triangle.\")"
   ]
  },
  {
   "cell_type": "code",
   "execution_count": 1,
   "id": "5a7187a1",
   "metadata": {},
   "outputs": [
    {
     "name": "stdout",
     "output_type": "stream",
     "text": [
      "1 1\n",
      "2 2\n",
      "3 6\n",
      "4 24\n",
      "5 120\n",
      "6 720\n",
      "7 5040\n",
      "8 40320\n",
      "9 362880\n",
      "10 3628800\n",
      "11 39916800\n",
      "12 479001600\n",
      "13 6227020800\n",
      "14 87178291200\n"
     ]
    }
   ],
   "source": [
    "def factorialFun(n):\n",
    "    if n < 0:\n",
    "        return None\n",
    "    if n < 2:\n",
    "        return 1\n",
    "    \n",
    "    product = 1\n",
    "    for i in range(2, n + 1):\n",
    "        product *= i\n",
    "    return product\n",
    "\n",
    "#Call the Function here\n",
    "for n in range(1, 15): # testing\n",
    "    print(n, factorialFun(n))"
   ]
  },
  {
   "cell_type": "code",
   "execution_count": null,
   "id": "7462e65c",
   "metadata": {},
   "outputs": [],
   "source": [
    "def fib(n):\n",
    "    if n < 1:\n",
    "         return None\n",
    "    if n < 3:\n",
    "        return 1\n",
    "\n",
    "    elem1 = elem2 = 1\n",
    "    sum = 0\n",
    "    for i in range(3, n + 1):\n",
    "        sum = elem1 + elem2\n",
    "        elem1, elem2 = elem2, sum\n",
    "    return sum\n",
    "\n",
    "#Call the Function here\n",
    "for n in range(1, 10): #testing\n",
    "    print(n, \">\", fib(n))"
   ]
  },
  {
   "cell_type": "code",
   "execution_count": null,
   "id": "23d76f0c",
   "metadata": {},
   "outputs": [],
   "source": [
    "#recursion 1\n",
    "def fib(n):\n",
    "    if n < 1:\n",
    "        return None\n",
    "    if n < 3:\n",
    "        return 1\n",
    "    return fib(n - 1) + fib(n - 2)\n",
    "\n",
    "for n in range(1, 10): # testing\n",
    "    print(n, \"->\", fib(n))\n",
    "\n",
    "#recursion 2\n",
    "    \n",
    "def fun(a):\n",
    "    if a > 30:\n",
    "        return 3\n",
    "    else:\n",
    "        return a + fun(a + 3)\n",
    "\n",
    "\n",
    "print(fun(25))\n"
   ]
  },
  {
   "cell_type": "code",
   "execution_count": null,
   "id": "db1609a1",
   "metadata": {},
   "outputs": [],
   "source": [
    "kalimat = \"Ibu pergi ke pasar dengan Bapak\"\n",
    "stopw = ['ke','dengan','saya','dia']\n",
    "\n",
    "def removeStop(sentence):\n",
    "#     words = []\n",
    "    words = [word for word in sentence.split() if word not in stopw]\n",
    "#     for word in sentence.split():\n",
    "#         if word not in stopw:\n",
    "#             words.append(word)\n",
    "            \n",
    "    return ' '.join(words)\n",
    "    \n",
    "# print('ke' in kalimat.split())\n",
    "kalimat_stop = removeStop(kalimat.lower())\n",
    "\n",
    "print(kalimat_stop)\n",
    "# output kalimat_stop: Ibu pergi pasar Bapak\"\n",
    "\n"
   ]
  },
  {
   "cell_type": "code",
   "execution_count": null,
   "id": "622f60e1",
   "metadata": {},
   "outputs": [],
   "source": [
    "myTuple = (1, 2, True, \"a string\", (3, 4), [5, 6], None)\n",
    "#Print Function here\n",
    "print(myTuple)\n",
    "\n",
    "myList = [1, 2, True, \"a string\", (3, 4), [5, 6], None]\n",
    "#Print Function here\n",
    "print(myList)\n"
   ]
  },
  {
   "cell_type": "code",
   "execution_count": null,
   "id": "da410c66",
   "metadata": {},
   "outputs": [],
   "source": [
    "tup1 = (1,2,3,4)\n",
    "tup2 = 1.0, .5, .25, .124\n",
    "\n",
    "print(tup1)\n",
    "print(tup2)"
   ]
  },
  {
   "cell_type": "code",
   "execution_count": null,
   "id": "1c2c8462",
   "metadata": {},
   "outputs": [],
   "source": [
    "emptyTuple = ()\n",
    "print(type(emptyTuple))"
   ]
  },
  {
   "cell_type": "code",
   "execution_count": null,
   "id": "06994bb9",
   "metadata": {},
   "outputs": [],
   "source": [
    "myTuple = (1, 10, 100, 1000)\n",
    "\n",
    "print(myTuple[0])\n",
    "print(myTuple[-1])\n",
    "print(myTuple[1:])\n",
    "print(myTuple[:-2])\n",
    "\n",
    "for elem in myTuple:\n",
    "    print(elem, end = \" \")"
   ]
  },
  {
   "cell_type": "code",
   "execution_count": null,
   "id": "c8688cad",
   "metadata": {},
   "outputs": [],
   "source": [
    "myTuple = (1, 10, 100, 1000)\n",
    "\n",
    "#Tuple operation ?\n",
    "\n",
    "# myTuple.append(10000)\n",
    "# del myTuple[0]\n",
    "# myTuple[1] = -10"
   ]
  },
  {
   "cell_type": "code",
   "execution_count": null,
   "id": "09e255d3",
   "metadata": {},
   "outputs": [],
   "source": [
    "myTuple = (1, 10, 100)\n",
    "print(type(myTuple))\n",
    "\n",
    "#Tuple operation\n",
    "print(myTuple[0])\n",
    "print(myTuple[-1])\n",
    "print(myTuple[1:])\n",
    "print(myTuple[:-2])\n",
    "# Print Function here"
   ]
  },
  {
   "cell_type": "code",
   "execution_count": null,
   "id": "d3ca6bf7",
   "metadata": {},
   "outputs": [],
   "source": [
    "# Example 1\n",
    "t1 = (1, 2, 3)\n",
    "for elem in t1:\n",
    "    print(elem)\n",
    "\n",
    "# Example 2\n",
    "t2 = (1, 2, 3, 4)\n",
    "print(5 in t2)\n",
    "print(5 not in t2)\n",
    "\n",
    "# Example 3\n",
    "t3 = (1, 2, 3, 5)\n",
    "print(len(t3))\n",
    "\n",
    "# Example 4\n",
    "t4 = t1 + t2\n",
    "t5 = t3 * 2\n",
    "\n",
    "print(t4)\n",
    "print(t5)"
   ]
  },
  {
   "cell_type": "code",
   "execution_count": null,
   "id": "6ef63c44",
   "metadata": {},
   "outputs": [],
   "source": [
    "kamus = {\"cat\" : \"chat\", \"dog\" : \"chien\", \"horse\" : \"cheval\"}\n",
    "phoneNumbers = {'boss' : 5551234567, 'Suzy' : [22657854310,52852352]}\n",
    "emptyDictionary = {}\n",
    "\n",
    "print()\n",
    "print(phoneNumbers)\n",
    "print(emptyDictionary)"
   ]
  },
  {
   "cell_type": "code",
   "execution_count": null,
   "id": "0f5647ef",
   "metadata": {},
   "outputs": [],
   "source": [
    "print(kamus['cat'])\n",
    "print(phoneNumbers['Suzy'])\n",
    "print(phoneNumbers['Suzy'][0])"
   ]
  },
  {
   "cell_type": "code",
   "execution_count": null,
   "id": "d4cef955",
   "metadata": {},
   "outputs": [],
   "source": [
    "dict = {\"horse\" : \"cheval\", \"cat\" : \"chat\", \"dog\" : \"chien\"}\n",
    "\n",
    "for key in dict.keys():\n",
    "    print(key,dict[key])"
   ]
  },
  {
   "cell_type": "code",
   "execution_count": null,
   "id": "195d6baa",
   "metadata": {},
   "outputs": [],
   "source": [
    "for key in sorted(dict.keys()):\n",
    "    print(key, \"->\", dict[key])"
   ]
  },
  {
   "cell_type": "code",
   "execution_count": null,
   "id": "437e4f4c",
   "metadata": {},
   "outputs": [],
   "source": [
    "dict = {\"cat\" : \"chat\", \"dog\" : \"chien\", \"horse\" : \"cheval\"}\n",
    "\n",
    "for english, french in dict.items():\n",
    "    print(english, \"->\", french)"
   ]
  },
  {
   "cell_type": "code",
   "execution_count": null,
   "id": "eb9ed8f0",
   "metadata": {},
   "outputs": [],
   "source": [
    "dict = {\"cat\" : \"chat\", \"dog\" : \"chien\", \"horse\" : \"cheval\"}\n",
    "\n",
    "for french in dict.values():\n",
    "    print(french)"
   ]
  },
  {
   "cell_type": "code",
   "execution_count": null,
   "id": "0f3649ac",
   "metadata": {},
   "outputs": [],
   "source": [
    "dict = {\"cat\" : \"chat\", \"dog\" : \"chien\", \"horse\" : \"cheval\"}\n",
    "words = ['cat', 'lion', 'horse','mouse']\n",
    "\n",
    "for word in words:\n",
    "    if word in dict:\n",
    "        print(word, \"->\", dict[word])\n",
    "    else:\n",
    "        print(word, \"is not in dictionary\")"
   ]
  },
  {
   "cell_type": "code",
   "execution_count": null,
   "id": "4c2d5d18",
   "metadata": {},
   "outputs": [],
   "source": [
    "dict = {\"cat\" : \"chat\", \"dog\" : \"chien\", \"horse\" : \"cheval\"}\n",
    "\n",
    "dict['cat'] = 'minou'\n",
    "print(dict)"
   ]
  },
  {
   "cell_type": "code",
   "execution_count": null,
   "id": "99abbafe",
   "metadata": {},
   "outputs": [],
   "source": [
    "dict = {\"cat\" : \"chat\", \"dog\" : \"chien\", \"horse\" : \"cheval\"}\n",
    "\n",
    "dict['swan'] = 'cygne'\n",
    "dict['animal'] = 'hewan'\n",
    "print(dict)\n",
    "\n",
    "for key in sorted(dict.keys()):\n",
    "    print(key,dict[key])"
   ]
  },
  {
   "cell_type": "code",
   "execution_count": null,
   "id": "5d4babaa",
   "metadata": {},
   "outputs": [],
   "source": [
    "schoolClass = {}\n",
    "\n",
    "while True:\n",
    "    name = input(\"Enter the student's name (or type exit to stop): \")\n",
    "    if name == 'exit':\n",
    "        break\n",
    "    \n",
    "    score = int(input(\"Enter the student's score (0-10): \"))\n",
    "    \n",
    "    if name in schoolClass:\n",
    "        schoolClass[name] += (score,)\n",
    "    else:\n",
    "        schoolClass[name] = (score,)\n",
    "\n",
    "print(schoolClass)\n",
    "\n",
    "for name in sorted(schoolClass.keys()):\n",
    "    sum = 0\n",
    "    counter = 0\n",
    "    for score in schoolClass[name]:\n",
    "        sum += score\n",
    "        counter += 1\n",
    "    print(name, \":\", sum / counter)"
   ]
  },
  {
   "cell_type": "code",
   "execution_count": null,
   "id": "8a4fb913",
   "metadata": {},
   "outputs": [],
   "source": [
    "def tf(sentence):\n",
    "    d = {}\n",
    "    for word in sentence.split():\n",
    "        if word not in d:\n",
    "            d[word] = 1\n",
    "        else:\n",
    "            d[word] += 1\n",
    "    return d\n",
    "\n",
    "kalimat = \"Ibu pergi ke pasar dengan Bapak dan Ibu Ibu lain\"\n",
    "stopw.append('dan')\n",
    "stopw.append('lain')\n",
    "kalimat_stop = removeStop(kalimat.lower())\n",
    "tf_kalimat = tf(kalimat_stop)\n",
    "\n",
    "print(tf_kalimat)"
   ]
  },
  {
   "cell_type": "code",
   "execution_count": null,
   "id": "b0b51029",
   "metadata": {},
   "outputs": [],
   "source": [
    "myTuple = (1, 2, True, \"a string\", (3, 4), [5, 6], None)\n",
    "#print(myTuple)\n",
    "\n",
    "myList = [1, 2, True, \"a string\", (3, 4), [5, 6], None]\n",
    "#print(myList)\n",
    "\n",
    "for r in myTuple[::-1]:\n",
    "    print(r)"
   ]
  },
  {
   "cell_type": "code",
   "execution_count": null,
   "id": "239b5fa7",
   "metadata": {},
   "outputs": [],
   "source": [
    "emptyTuple = ()\n",
    "print(type(emptyTuple))    # outputs: <class 'tuple'>"
   ]
  },
  {
   "cell_type": "code",
   "execution_count": null,
   "id": "a37b3324",
   "metadata": {},
   "outputs": [],
   "source": [
    "myListTuple = list(myTuple)\n",
    "print(myListTuple)\n",
    "myTupleLagi = tuple(myListTuple)\n",
    "print(myTupleLagi)"
   ]
  },
  {
   "cell_type": "code",
   "execution_count": null,
   "id": "8b5eb0ee",
   "metadata": {},
   "outputs": [],
   "source": [
    "oneElemTup1 = (\"one\",  )    # brackets dan koma, kalau tidak ada komanya jadi string\n",
    "oneElemTup2 = \"one\",     # no brackets, just a comma\n",
    "\n",
    "print(type(oneElemTup1))\n",
    "print(len(oneElemTup1+oneElemTup2))\n",
    "\n",
    "oneElemList = ['one']\n",
    "print(type(oneElemList))"
   ]
  },
  {
   "cell_type": "code",
   "execution_count": null,
   "id": "0465e443",
   "metadata": {},
   "outputs": [],
   "source": [
    "# Example 1\n",
    "t1 = (1, 2, 3)\n",
    "for elem in t1:\n",
    "    print(elem)\n",
    "\n",
    "# Example 2\n",
    "t2 = (1, 2, 3, 4)\n",
    "print(5 in t2)\n",
    "print(5 not in t2)\n",
    "\n",
    "# Example 3\n",
    "t3 = (1, 2, 3, 5)\n",
    "print(len(t3))\n",
    "\n",
    "# Example 4\n",
    "t4 = t1 + t2\n",
    "t5 = t3 * 2\n",
    "\n",
    "print(t4)\n",
    "print(t5)\n"
   ]
  },
  {
   "cell_type": "code",
   "execution_count": null,
   "id": "24c84d22",
   "metadata": {},
   "outputs": [],
   "source": [
    "import pprint\n",
    "pp = pprint.PrettyPrinter(indent=4)\n",
    "\n",
    "mahasiswa = [\n",
    "    {\n",
    "        'nim' : '08/123123/PA/123213',\n",
    "        'nama' : 'Guntur Budi H',\n",
    "        'nilai' : [80,90,75,30]\n",
    "    },\n",
    "    {\n",
    "        'nim' : '08/213123/PA/98120',\n",
    "        'nama' : 'Annisa Maulida N',\n",
    "        'nilai' : [100,90,77,110]\n",
    "    }    \n",
    "]\n",
    "mahasiswa_baru = {\n",
    "    'nim' : '12/12414/PA/12312',\n",
    "    'nama' : 'Miftahhurahma Rosyda'\n",
    "}\n",
    "\n",
    "mahasiswa.append(mahasiswa_baru)\n",
    "mahasiswa[0]['nilai'].append(79)\n",
    "mahasiswa[2]['nilai'] = [80,100,95,25]\n",
    "\n",
    "#pp.pprint(mahasiswa)\n",
    "pp.pprint(mahasiswa[0]['nilai'][-1])"
   ]
  },
  {
   "cell_type": "code",
   "execution_count": null,
   "id": "6da6dd9c",
   "metadata": {},
   "outputs": [],
   "source": [
    "sinonim = open('files/sinonim.txt','r')\n",
    "i = 1\n",
    "for s in sinonim:\n",
    "#     print(s)\n",
    "    baris = s.split(':')\n",
    "    print(baris)\n",
    "    kata = baris[1].split(',')\n",
    "    print(baris[0],kata)"
   ]
  },
  {
   "cell_type": "code",
   "execution_count": null,
   "id": "ac2a1ee7",
   "metadata": {},
   "outputs": [],
   "source": [
    "paragraf = \"\"\"\n",
    "Kisah ini bermula dari seorang dewa dan seorang dewi yang karena kesalahan yang dibuatnya di kayangan, akhirnya harus menjalani hukuman di dunia. Keduanya dihukum untuk berbuat kebaikan dalam hidupnya di bumi dalam bentuk seekor babi hutan dan seekor anjing. Babi hutan jelmaan dewi itu bernama Wayung Hyang, sedangkan anjing jelmaan dewa itu bernama Tumang. Wayung Hyang karena dihukum sebagai babi hutan atau celeng, maka ia berusaha melakukan berbagai kebaikan di dalam sebuah hutan. Sementara Tumang, sang anjing jelmaan dewa itu mengabdi sebagai anjing pemburu pada seorang raja yang bernama Sumbing Perbangkara.\n",
    "\"\"\"\n",
    "\n",
    "#sintaks ini\n",
    "kalimat = [k.strip().upper() for k in paragraf.split('.')] #memisahkan kalimat berdasarkan titik untuk menjadi list\n",
    "# print(kalimat)\n",
    "\n",
    "#sama dengan ini\n",
    "kalimat_baru = []\n",
    "for k in paragraf.split('.'):\n",
    "    kalimat_baru.append(k.strip())\n",
    "#     if k.endswith('dunia'):\n",
    "#         print(\"Ada Dunia pada kalimat\",k)\n",
    "    \n",
    "    if k.find('dunia'):\n",
    "        print(\"Ada dunia pada kalimat\",k)\n",
    "    \n",
    "    \n",
    "#versi satu satu\n",
    "kalimat_a = paragraf.split('.') #memisahkan kalimat berdasarkan titik di paragraf\n",
    "kalimat_a[1] =  kalimat_a[1].strip() #menghilangkan spasi\n",
    "kalimat_a[2] =  kalimat_a[2].strip() #menghilangkan spasi\n",
    "\n",
    "\n"
   ]
  },
  {
   "cell_type": "code",
   "execution_count": null,
   "id": "ff8de8e3",
   "metadata": {},
   "outputs": [],
   "source": [
    "k = \"abu salam \"\n",
    "print(k.capitalize())\n",
    "print(k.endswith(\"budi h\"))\n"
   ]
  }
 ],
 "metadata": {
  "kernelspec": {
   "display_name": "env",
   "language": "python",
   "name": "python3"
  },
  "language_info": {
   "codemirror_mode": {
    "name": "ipython",
    "version": 3
   },
   "file_extension": ".py",
   "mimetype": "text/x-python",
   "name": "python",
   "nbconvert_exporter": "python",
   "pygments_lexer": "ipython3",
   "version": "3.11.8"
  }
 },
 "nbformat": 4,
 "nbformat_minor": 5
}
