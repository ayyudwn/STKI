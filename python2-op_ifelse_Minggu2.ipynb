{
 "cells": [
  {
   "cell_type": "code",
   "execution_count": 75,
   "id": "4050f68f",
   "metadata": {},
   "outputs": [
    {
     "name": "stdout",
     "output_type": "stream",
     "text": [
      "20\n",
      "140731109878808\n"
     ]
    }
   ],
   "source": [
    "a=20\n",
    "print(a)\n",
    "print(id(a))"
   ]
  },
  {
   "cell_type": "code",
   "execution_count": 76,
   "id": "c0acb310",
   "metadata": {},
   "outputs": [
    {
     "name": "stdout",
     "output_type": "stream",
     "text": [
      "30\n",
      "140731109879128\n"
     ]
    }
   ],
   "source": [
    "a=30\n",
    "print(a)\n",
    "print(id(a))"
   ]
  },
  {
   "cell_type": "code",
   "execution_count": 77,
   "id": "7e1fc39b",
   "metadata": {},
   "outputs": [
    {
     "name": "stdout",
     "output_type": "stream",
     "text": [
      "[1, 2, 3, 4]\n",
      "<class 'list'>\n",
      "2071773096128\n"
     ]
    }
   ],
   "source": [
    "a=[1,2,3,4]\n",
    "print(a)\n",
    "print(type(a))\n",
    "print(id(a))"
   ]
  },
  {
   "cell_type": "code",
   "execution_count": 78,
   "id": "02adb385",
   "metadata": {},
   "outputs": [
    {
     "name": "stdout",
     "output_type": "stream",
     "text": [
      "[0, 2, 3, 4]\n",
      "2071773096128\n"
     ]
    }
   ],
   "source": [
    "a[0]=0\n",
    "print(a)\n",
    "print(id(a))"
   ]
  },
  {
   "cell_type": "code",
   "execution_count": 79,
   "id": "89f31b12",
   "metadata": {},
   "outputs": [
    {
     "name": "stdout",
     "output_type": "stream",
     "text": [
      "True True\n"
     ]
    }
   ],
   "source": [
    "a = int(\"200\")\n",
    "print(\"True\", a >= 100)"
   ]
  },
  {
   "cell_type": "code",
   "execution_count": 80,
   "id": "4541e30b",
   "metadata": {},
   "outputs": [
    {
     "name": "stdout",
     "output_type": "stream",
     "text": [
      "11.0\n"
     ]
    }
   ],
   "source": [
    "x = 5 + 2 * 3 / (2 - 3) ** 2\n",
    "print(x)"
   ]
  },
  {
   "cell_type": "code",
   "execution_count": 81,
   "id": "4919f818",
   "metadata": {},
   "outputs": [],
   "source": [
    "a = 5\n",
    "b = 6\n",
    "\n",
    "if a==b:\n",
    "    print(\"oke\")\n",
    "    print(\"berhasil\")\n",
    "    print(\"Gagal\")"
   ]
  },
  {
   "cell_type": "code",
   "execution_count": 82,
   "id": "7645f4cb",
   "metadata": {},
   "outputs": [
    {
     "name": "stdout",
     "output_type": "stream",
     "text": [
      "Gagal\n"
     ]
    }
   ],
   "source": [
    "a = 5\n",
    "b = 6\n",
    "\n",
    "if a==b:\n",
    "    print(\"oke\")\n",
    "    print(\"berhasil\")\n",
    "else:\n",
    "    print(\"Gagal\")"
   ]
  },
  {
   "cell_type": "code",
   "execution_count": 83,
   "id": "ee1ee8be",
   "metadata": {},
   "outputs": [
    {
     "name": "stdout",
     "output_type": "stream",
     "text": [
      "ganjil\n"
     ]
    }
   ],
   "source": [
    "bil = 3\n",
    "if bil % 2 == 0:\n",
    "    print(\"genap\")\n",
    "else:\n",
    "    print(\"ganjil\")"
   ]
  },
  {
   "cell_type": "code",
   "execution_count": 84,
   "id": "b2f0fcbe",
   "metadata": {},
   "outputs": [
    {
     "name": "stdout",
     "output_type": "stream",
     "text": [
      "Masukan nilai koordinat\n",
      "Kuadran I\n"
     ]
    }
   ],
   "source": [
    "print(\"Masukan nilai koordinat\")\n",
    "x = 3\n",
    "y = 5\n",
    "\n",
    "if x > 0 and y > 0:\n",
    "    print(\"Kuadran I\")\n",
    "elif x < 0 and y > 0:\n",
    "    print(\"Kuadran II\")\n",
    "elif x < 0 and y < 0:\n",
    "    print(\"Kuadran III\")\n",
    "elif x > 0 and y < 0:\n",
    "    print(\"Kuadran IV\")\n",
    "else:\n",
    "    print(\"Tepat di sumbu\")\n"
   ]
  },
  {
   "cell_type": "code",
   "execution_count": 85,
   "id": "977aa517",
   "metadata": {},
   "outputs": [
    {
     "name": "stdout",
     "output_type": "stream",
     "text": [
      "The largest number is: 25\n"
     ]
    }
   ],
   "source": [
    "num1 = 10\n",
    "num2 = 25\n",
    "num3 = 7\n",
    "\n",
    "if not num1 or not num2 or not num3:\n",
    "    print(\"Semua angka harus diisi!\")\n",
    "else:\n",
    "    num1 = int(num1)\n",
    "    num2 = int(num2)\n",
    "    num3 = int(num3)\n",
    "\n",
    "    largestNum = num1\n",
    "\n",
    "    if num2 > largestNum:\n",
    "        largestNum = num2\n",
    "    if num3 > largestNum:\n",
    "        largestNum = num3\n",
    "\n",
    "    print(\"The largest number is:\", largestNum)\n"
   ]
  },
  {
   "cell_type": "code",
   "execution_count": 86,
   "id": "f59fa606",
   "metadata": {},
   "outputs": [
    {
     "name": "stdout",
     "output_type": "stream",
     "text": [
      "No, I want a big Spathiphyllum!\n"
     ]
    }
   ],
   "source": [
    "plant = \"spathiphyllum\"  # ganti dengan input yang mau kamu uji\n",
    "\n",
    "if plant == \"Spathiphyllum\":\n",
    "    print(\"Yes - Spathiphyllum is the best plant ever!\")\n",
    "elif plant == \"spathiphyllum\":\n",
    "    print(\"No, I want a big Spathiphyllum!\")\n",
    "else:\n",
    "    print(\"Spathiphyllum! Not \" + plant + \"!\")\n"
   ]
  },
  {
   "cell_type": "code",
   "execution_count": 87,
   "id": "3bc8ee89",
   "metadata": {},
   "outputs": [
    {
     "name": "stdout",
     "output_type": "stream",
     "text": [
      "The tax is: 19082.0 thalers\n"
     ]
    }
   ],
   "source": [
    "income = 98787\n",
    "tax = 0\n",
    "\n",
    "if income < 85528:\n",
    "    tax = 0.18 * income - 556.2\n",
    "else:\n",
    "    tax = 14839.2 + 0.32 * (income - 85528)\n",
    "\n",
    "if tax < 0:\n",
    "    tax = 0\n",
    "\n",
    "tax = round(tax, 0)\n",
    "\n",
    "print(\"The tax is:\", tax, \"thalers\")\n"
   ]
  },
  {
   "cell_type": "code",
   "execution_count": 88,
   "id": "93d82b73",
   "metadata": {},
   "outputs": [
    {
     "name": "stdout",
     "output_type": "stream",
     "text": [
      "Not within the Gregorian calender period\n"
     ]
    }
   ],
   "source": [
    "year = 888\n",
    "\n",
    "if year < 1582:\n",
    "    print(\"Not within the Gregorian calender period\")\n",
    "else :\n",
    "    if year % 4 !=0 :\n",
    "        print(\"common year\")\n",
    "    elif year % 100 !=0:\n",
    "        print (\"leap year\")\n",
    "    elif year % 400 !=0:\n",
    "        print(\"common year\")\n",
    "    else : \n",
    "        print(\"leap year\")"
   ]
  },
  {
   "cell_type": "code",
   "execution_count": 89,
   "id": "45a62e1f",
   "metadata": {},
   "outputs": [
    {
     "name": "stdout",
     "output_type": "stream",
     "text": [
      "False\n",
      "True\n"
     ]
    }
   ],
   "source": [
    "x = 5\n",
    "y = 10\n",
    "z = 8\n",
    "\n",
    "print(x > y)\n",
    "print(y > z)"
   ]
  },
  {
   "cell_type": "code",
   "execution_count": 90,
   "id": "73f56aed",
   "metadata": {},
   "outputs": [
    {
     "name": "stdout",
     "output_type": "stream",
     "text": [
      "False\n",
      "True\n"
     ]
    }
   ],
   "source": [
    "x, y, z = 5, 10, 8\n",
    "\n",
    "print(x > z)\n",
    "print((y - 5) == x)"
   ]
  },
  {
   "cell_type": "code",
   "execution_count": 91,
   "id": "4e4ddb4d",
   "metadata": {},
   "outputs": [
    {
     "name": "stdout",
     "output_type": "stream",
     "text": [
      "True\n",
      "False\n"
     ]
    }
   ],
   "source": [
    "x, y, z = 5, 10, 8\n",
    "x, y, z = z, y, x\n",
    "\n",
    "print(x > z)\n",
    "print((y - 5) == x)"
   ]
  },
  {
   "cell_type": "code",
   "execution_count": 92,
   "id": "4500b3a5",
   "metadata": {},
   "outputs": [
    {
     "name": "stdout",
     "output_type": "stream",
     "text": [
      "True\n",
      "True\n",
      "else\n"
     ]
    }
   ],
   "source": [
    "x = 10\n",
    "\n",
    "if x == 10:\n",
    "    print(x == 10)\n",
    "\n",
    "if x > 5:\n",
    "    print(x > 5)\n",
    "\n",
    "if x < 10:\n",
    "    print(x < 10)\n",
    "else:\n",
    "    print(\"else\")"
   ]
  },
  {
   "cell_type": "code",
   "execution_count": 93,
   "id": "8b8a1b65",
   "metadata": {},
   "outputs": [
    {
     "name": "stdout",
     "output_type": "stream",
     "text": [
      "four\n",
      "five\n"
     ]
    }
   ],
   "source": [
    "x = \"1\"\n",
    "\n",
    "if x == 1:\n",
    "    print(\"one\")\n",
    "elif x == \"1\":\n",
    "    if int(x) > 1:\n",
    "        print(\"two\")\n",
    "    elif int(x) < 1:\n",
    "        print(\"three\")\n",
    "    else:\n",
    "        print(\"four\")\n",
    "        \n",
    "if int(x) == 1:\n",
    "    print(\"five\")\n",
    "else:\n",
    "    print(\"six\")"
   ]
  },
  {
   "cell_type": "code",
   "execution_count": 94,
   "id": "063f3b75",
   "metadata": {},
   "outputs": [
    {
     "name": "stdout",
     "output_type": "stream",
     "text": [
      "one\n",
      "three\n"
     ]
    }
   ],
   "source": [
    "x = 1\n",
    "y = 1.0\n",
    "z = \"1\"\n",
    "\n",
    "if x == y:\n",
    "    print(\"one\")\n",
    "if y == z:\n",
    "    print(\"two\")\n",
    "    print(x)\n",
    "    print(y)\n",
    "elif x == y:\n",
    "    print(\"three\")\n",
    "else:\n",
    "    print(\"four\")"
   ]
  },
  {
   "cell_type": "code",
   "execution_count": 95,
   "id": "ccb37ea3",
   "metadata": {},
   "outputs": [
    {
     "name": "stdout",
     "output_type": "stream",
     "text": [
      "1\n",
      "9\n",
      "25\n",
      "49\n",
      "81\n"
     ]
    }
   ],
   "source": [
    "i = 1\n",
    "\n",
    "while i<10:\n",
    "    print(i**2)\n",
    "    i = i+2"
   ]
  },
  {
   "cell_type": "code",
   "execution_count": 96,
   "id": "c0aa17d5",
   "metadata": {},
   "outputs": [
    {
     "name": "stdout",
     "output_type": "stream",
     "text": [
      "0\n",
      "1\n",
      "2\n",
      "3\n",
      "4\n"
     ]
    }
   ],
   "source": [
    "for i in range(5):\n",
    "    print(i)"
   ]
  },
  {
   "cell_type": "code",
   "execution_count": 97,
   "id": "dda35d96",
   "metadata": {},
   "outputs": [
    {
     "name": "stdout",
     "output_type": "stream",
     "text": [
      "2\n",
      "3\n",
      "4\n",
      "5\n",
      "6\n",
      "7\n"
     ]
    }
   ],
   "source": [
    "for i in range(2,8):\n",
    "    print(i)"
   ]
  },
  {
   "cell_type": "code",
   "execution_count": 98,
   "id": "6989f6e1",
   "metadata": {},
   "outputs": [
    {
     "name": "stdout",
     "output_type": "stream",
     "text": [
      "2\n",
      "5\n",
      "8\n",
      "11\n",
      "14\n",
      "17\n"
     ]
    }
   ],
   "source": [
    "for i in range(2,18,3):\n",
    "    print(i)"
   ]
  },
  {
   "cell_type": "code",
   "execution_count": 99,
   "id": "da553608",
   "metadata": {},
   "outputs": [
    {
     "name": "stdout",
     "output_type": "stream",
     "text": [
      "0\n",
      "1\n",
      "2\n",
      "3\n",
      "4\n",
      "masuk else\n"
     ]
    }
   ],
   "source": [
    "for i in range(5):\n",
    "    print(i)\n",
    "else:\n",
    "    print(\"masuk else\")"
   ]
  },
  {
   "cell_type": "code",
   "execution_count": 100,
   "id": "0865d47c",
   "metadata": {},
   "outputs": [
    {
     "name": "stdout",
     "output_type": "stream",
     "text": [
      "0  Missisipi\n",
      "1  Missisipi\n",
      "2  Missisipi\n",
      "3  Missisipi\n",
      "4  Missisipi\n"
     ]
    }
   ],
   "source": [
    "import time\n",
    "\n",
    "for i in range(5):\n",
    "    print(i,\" Missisipi\")\n",
    "    time.sleep(1)"
   ]
  },
  {
   "cell_type": "code",
   "execution_count": 101,
   "id": "bd91e173",
   "metadata": {},
   "outputs": [
    {
     "name": "stdout",
     "output_type": "stream",
     "text": [
      "0 1 2 3 4 5 6 7  masih dalam for\n"
     ]
    }
   ],
   "source": [
    "for i in range (11):\n",
    "    print(i, end=\" \")\n",
    "    if i==7:\n",
    "        print(\" masih dalam for\")\n",
    "        break"
   ]
  },
  {
   "cell_type": "code",
   "execution_count": 102,
   "id": "42f2ce81",
   "metadata": {},
   "outputs": [
    {
     "name": "stdout",
     "output_type": "stream",
     "text": [
      "The break instruction:\n",
      "Inside the loop. 1\n",
      "Inside the loop. 2\n",
      "Outside the loop.\n"
     ]
    }
   ],
   "source": [
    "# break - example\n",
    "\n",
    "print(\"The break instruction:\")\n",
    "for i in range(1, 6):\n",
    "    if i == 3:\n",
    "        break\n",
    "    print(\"Inside the loop.\", i)\n",
    "print(\"Outside the loop.\")"
   ]
  },
  {
   "cell_type": "code",
   "execution_count": 103,
   "id": "d89af344",
   "metadata": {},
   "outputs": [
    {
     "name": "stdout",
     "output_type": "stream",
     "text": [
      "The largest number is 25\n"
     ]
    }
   ],
   "source": [
    "numbers = [10, 25, 8, 17, 1]  # daftar input, 1 berarti berhenti\n",
    "largestNumber = -99999999\n",
    "counter = 0\n",
    "\n",
    "for number in numbers:\n",
    "    if number == 1:\n",
    "        break\n",
    "    counter += 1\n",
    "    if number > largestNumber:\n",
    "        largestNumber = number\n",
    "\n",
    "if counter != 0:\n",
    "    print(\"The largest number is\", largestNumber)\n",
    "else:\n",
    "    print(\"You haven't entered any number.\")\n"
   ]
  },
  {
   "cell_type": "code",
   "execution_count": 104,
   "id": "891c317d",
   "metadata": {},
   "outputs": [
    {
     "name": "stdout",
     "output_type": "stream",
     "text": [
      "1\t3\t5\t7\t9\t"
     ]
    }
   ],
   "source": [
    "for i in range (1,11):\n",
    "    if i % 2 ==0:\n",
    "        continue\n",
    "    print(i, end=\"\\t\")"
   ]
  },
  {
   "cell_type": "code",
   "execution_count": 105,
   "id": "160c5957",
   "metadata": {},
   "outputs": [
    {
     "name": "stdout",
     "output_type": "stream",
     "text": [
      "2\n",
      "4\n",
      "6\n",
      "8\n",
      "10\n"
     ]
    }
   ],
   "source": [
    "for i in range (1,11):\n",
    "    if i % 2 ==0:\n",
    "        print(i)"
   ]
  },
  {
   "cell_type": "code",
   "execution_count": 106,
   "id": "7b475470",
   "metadata": {},
   "outputs": [
    {
     "name": "stdout",
     "output_type": "stream",
     "text": [
      "\n",
      "The continue instruction:\n",
      "Inside the loop. 1\n",
      "Inside the loop. 2\n",
      "Inside the loop. 4\n",
      "Inside the loop. 5\n",
      "Outside the loop.\n"
     ]
    }
   ],
   "source": [
    "# continue - example\n",
    "\n",
    "print(\"\\nThe continue instruction:\")\n",
    "for i in range(1, 6):\n",
    "    if i == 3:\n",
    "        continue\n",
    "    print(\"Inside the loop.\", i)\n",
    "print(\"Outside the loop.\")"
   ]
  },
  {
   "cell_type": "code",
   "execution_count": 107,
   "id": "4340f655",
   "metadata": {},
   "outputs": [
    {
     "name": "stdout",
     "output_type": "stream",
     "text": [
      "Enter a number or type -1 to end program: 10\n",
      "Enter a number or type -1 to end program: 25\n",
      "Enter a number or type -1 to end program: 8\n",
      "Enter a number or type -1 to end program: 56\n",
      "Enter a number or type -1 to end program: -1\n",
      "The largest number is 56\n"
     ]
    }
   ],
   "source": [
    "inputs = [10, 25, 8, 56, -1]  # -1 artinya berhenti\n",
    "i = 0  # indeks untuk mengambil input dari daftar\n",
    "\n",
    "largestNumber = -99999999\n",
    "counter = 0\n",
    "\n",
    "while True:\n",
    "    number = inputs[i]  # ambil angka dari daftar\n",
    "    print(\"Enter a number or type -1 to end program:\", number)  # tampilkan seolah input user\n",
    "    i += 1\n",
    "\n",
    "    if number == -1:\n",
    "        break\n",
    "\n",
    "    counter += 1\n",
    "    if number > largestNumber:\n",
    "        largestNumber = number\n",
    "\n",
    "if counter:\n",
    "    print(\"The largest number is\", largestNumber)\n",
    "else:\n",
    "    print(\"You haven't entered any number.\")\n"
   ]
  },
  {
   "cell_type": "code",
   "execution_count": 108,
   "id": "bd9e640d",
   "metadata": {},
   "outputs": [
    {
     "name": "stdout",
     "output_type": "stream",
     "text": [
      "Enter a word: python\n",
      "Enter a word: loop\n",
      "Enter a word: chupacabra\n",
      "You've successfully left the loop.\n"
     ]
    }
   ],
   "source": [
    "inputs = [\"python\", \"loop\", \"chupacabra\"]\n",
    "i = 0\n",
    "\n",
    "while True:\n",
    "    word = inputs[i]\n",
    "    print(\"Enter a word:\", word)  # tampilkan seolah-olah user mengetik\n",
    "    i += 1\n",
    "    if word == \"chupacabra\":\n",
    "        break\n",
    "\n",
    "print(\"You've successfully left the loop.\")"
   ]
  },
  {
   "cell_type": "code",
   "execution_count": 109,
   "id": "8a51e971",
   "metadata": {},
   "outputs": [
    {
     "name": "stdout",
     "output_type": "stream",
     "text": [
      "N\n",
      "F\n",
      "R\n",
      "M\n",
      "T\n",
      "K\n"
     ]
    }
   ],
   "source": [
    "# Prompt the user to enter a word\n",
    "# and assign it to the userWord variable.\n",
    "userWord = \"informatika\"\n",
    "\n",
    "for letter in userWord:\n",
    "    if letter.upper() in ['A','I','U','E','O']:\n",
    "        continue\n",
    "    \n",
    "    print(letter.upper())"
   ]
  },
  {
   "cell_type": "code",
   "execution_count": 110,
   "id": "1c4b1849",
   "metadata": {},
   "outputs": [
    {
     "name": "stdout",
     "output_type": "stream",
     "text": [
      "The height of the pyramid: 1\n"
     ]
    }
   ],
   "source": [
    "blocks = 1\n",
    "current_block = 0\n",
    "height = 0\n",
    "i=0\n",
    "\n",
    "while i<blocks:\n",
    "    height += 1\n",
    "    current_block += height\n",
    "    # print(i,current_block)\n",
    "    if current_block> blocks:\n",
    "        break\n",
    "\n",
    "height -= 1\n",
    "\n",
    "print(\"The height of the pyramid:\", height)"
   ]
  },
  {
   "cell_type": "code",
   "execution_count": 111,
   "id": "457b7afe",
   "metadata": {},
   "outputs": [
    {
     "name": "stdout",
     "output_type": "stream",
     "text": [
      "1 3 5 7 9 "
     ]
    }
   ],
   "source": [
    "for i in range(1, 11):\n",
    "    if i % 2 !=0:\n",
    "        print(i,end=' ')"
   ]
  },
  {
   "cell_type": "code",
   "execution_count": 112,
   "id": "c49cfe86",
   "metadata": {},
   "outputs": [
    {
     "name": "stdout",
     "output_type": "stream",
     "text": [
      "1 3 5 7 9 "
     ]
    }
   ],
   "source": [
    "x=1\n",
    "while x<11:\n",
    "    if x % 2 !=0:\n",
    "        print(x,end=' ')\n",
    "    x +=1"
   ]
  },
  {
   "cell_type": "code",
   "execution_count": 113,
   "id": "ff6a9a91",
   "metadata": {},
   "outputs": [
    {
     "name": "stdout",
     "output_type": "stream",
     "text": [
      "r a t n a . l e s t a r i "
     ]
    }
   ],
   "source": [
    "for ch in \"ratna.lestari@ugm.ac.id\":\n",
    "    if ch == \"@\":\n",
    "        break\n",
    "    print(ch,end=' ')"
   ]
  },
  {
   "cell_type": "code",
   "execution_count": 114,
   "id": "9dcdd903",
   "metadata": {},
   "outputs": [
    {
     "name": "stdout",
     "output_type": "stream",
     "text": [
      "x\n",
      "1\n",
      "6\n",
      "5\n",
      "x\n",
      "3\n",
      "1\n",
      "8\n",
      "x\n",
      "6\n",
      "5\n",
      "1\n",
      "x\n"
     ]
    }
   ],
   "source": [
    "for digit in \"0165031806510\":\n",
    "    if digit == \"0\": \n",
    "        print (\"x\")\n",
    "        continue\n",
    "    print(digit)"
   ]
  },
  {
   "cell_type": "code",
   "execution_count": 115,
   "id": "0f545bdc",
   "metadata": {},
   "outputs": [
    {
     "name": "stdout",
     "output_type": "stream",
     "text": [
      "4\n",
      "3\n",
      "2\n",
      "0\n"
     ]
    }
   ],
   "source": [
    "n = 3\n",
    "\n",
    "while n > 0:\n",
    "    print(n + 1)\n",
    "    n -= 1\n",
    "else:\n",
    "    print(n) "
   ]
  },
  {
   "cell_type": "code",
   "execution_count": 116,
   "id": "bffd20a2",
   "metadata": {},
   "outputs": [
    {
     "name": "stdout",
     "output_type": "stream",
     "text": [
      "-1\n",
      "0\n",
      "1\n",
      "2\n",
      "3\n"
     ]
    }
   ],
   "source": [
    "n = range(4)\n",
    "\n",
    "for num in n:\n",
    "    print(num - 1)\n",
    "else:\n",
    "    print(num)"
   ]
  },
  {
   "cell_type": "code",
   "execution_count": 117,
   "id": "31e5d4f8",
   "metadata": {},
   "outputs": [
    {
     "name": "stdout",
     "output_type": "stream",
     "text": [
      "0\n",
      "3\n"
     ]
    }
   ],
   "source": [
    "for i in range(0, 6, 3):\n",
    "    print(i)"
   ]
  },
  {
   "cell_type": "code",
   "execution_count": 118,
   "id": "1892c600",
   "metadata": {},
   "outputs": [
    {
     "name": "stdout",
     "output_type": "stream",
     "text": [
      "False\n"
     ]
    }
   ],
   "source": [
    "x = 1\n",
    "y = 0\n",
    "\n",
    "z = ((x == y) and (x == y)) or not(x == y)\n",
    "print(not(z))"
   ]
  },
  {
   "cell_type": "code",
   "execution_count": 119,
   "id": "ded49177",
   "metadata": {},
   "outputs": [
    {
     "name": "stdout",
     "output_type": "stream",
     "text": [
      "[1, 2, 3, 4, 5]\n"
     ]
    }
   ],
   "source": [
    "var1=1\n",
    "var2=2\n",
    "var3=3\n",
    "var4=4\n",
    "var5=5\n",
    "\n",
    "#bandingkan\n",
    "\n",
    "var=[1,2,3,4,5]\n",
    "print(var)"
   ]
  },
  {
   "cell_type": "code",
   "execution_count": 120,
   "id": "4776f6c3",
   "metadata": {},
   "outputs": [
    {
     "name": "stdout",
     "output_type": "stream",
     "text": [
      "[2, 3, 4, 5]\n",
      "4\n",
      "5\n"
     ]
    }
   ],
   "source": [
    "num = [2,3,4,5]\n",
    "print(num)\n",
    "print(num[2])\n",
    "print(num[-1])"
   ]
  },
  {
   "cell_type": "code",
   "execution_count": 121,
   "id": "0c14d1ac",
   "metadata": {},
   "outputs": [
    {
     "name": "stdout",
     "output_type": "stream",
     "text": [
      "500\n",
      "400\n",
      "100\n",
      "\n",
      "\n",
      "500\n",
      "400\n",
      "100\n"
     ]
    }
   ],
   "source": [
    "lst = [100,200,300,400,500]\n",
    "print(lst[-1])\n",
    "print(lst[-2])\n",
    "print(lst[-5])\n",
    "\n",
    "print(\"\\n\")\n",
    "print(lst[4])\n",
    "print(lst[3])\n",
    "print(lst[0])"
   ]
  },
  {
   "cell_type": "code",
   "execution_count": 122,
   "id": "4959c6ab",
   "metadata": {},
   "outputs": [
    {
     "name": "stdout",
     "output_type": "stream",
     "text": [
      "[4, 1, 6]\n",
      "[1, 6]\n",
      "[9, 10, 8]\n",
      "[4, 1, 6]\n",
      "[4, 1, 6, 9, 10, 8]\n"
     ]
    }
   ],
   "source": [
    "lst=[4,1,6,9,10,8]\n",
    "\n",
    "print(lst[0:3])\n",
    "print(lst[1:3])\n",
    "\n",
    "print(lst[-3:])\n",
    "print(lst[:-3])\n",
    "\n",
    "print(lst[:])"
   ]
  },
  {
   "cell_type": "code",
   "execution_count": 123,
   "id": "a5e72ddd",
   "metadata": {},
   "outputs": [
    {
     "name": "stdout",
     "output_type": "stream",
     "text": [
      "[3, 2, 4]\n"
     ]
    }
   ],
   "source": [
    "num=[2,3,4]\n",
    "num[0],num[1] = num[1], num[0]\n",
    "print(num)"
   ]
  },
  {
   "cell_type": "code",
   "execution_count": 124,
   "id": "5e5460cd",
   "metadata": {},
   "outputs": [
    {
     "name": "stdout",
     "output_type": "stream",
     "text": [
      "[2, 4, 6, 8, 10]\n"
     ]
    }
   ],
   "source": [
    "myList = [8, 10, 6, 2, 4] # list to sort\n",
    "swapped = True # it's a little fake - we need it to enter the while loop\n",
    "\n",
    "while swapped:\n",
    "    swapped = False # no swaps so far\n",
    "    for i in range(len(myList) - 1):\n",
    "        if myList[i] > myList[i + 1]:\n",
    "            swapped = True # swap occured!\n",
    "            myList[i], myList[i + 1] = myList[i + 1], myList[i]\n",
    "\n",
    "print(myList)"
   ]
  },
  {
   "cell_type": "code",
   "execution_count": 125,
   "id": "a88a7cb8",
   "metadata": {},
   "outputs": [
    {
     "name": "stdout",
     "output_type": "stream",
     "text": [
      "[1, 2, 3, 4, 5]\n"
     ]
    }
   ],
   "source": [
    "hatList = [1, 2, 3, 4, 5]  # This is an existing list of numbers hidden in the hat.\n",
    "\n",
    "# Step 1: write a line of code that prompts the user\n",
    "# to replace the middle number with an integer number entered by the user.\n",
    "\n",
    "# Step 2: write a line of code here that removes the last element from the list.\n",
    "\n",
    "# Step 3: write a line of code here that prints the length of the existing list.\n",
    "\n",
    "print(hatList)"
   ]
  },
  {
   "cell_type": "code",
   "execution_count": 126,
   "id": "35677f3e",
   "metadata": {},
   "outputs": [
    {
     "name": "stdout",
     "output_type": "stream",
     "text": [
      "['Salak', 'Mangga', 'Apel', 'Jeruk']\n"
     ]
    }
   ],
   "source": [
    "buah=[\"Salak\",\"Mangga\",\"Apel\"]\n",
    "buah.append(\"Jeruk\")\n",
    "print(buah)"
   ]
  },
  {
   "cell_type": "code",
   "execution_count": 127,
   "id": "f97d4229",
   "metadata": {},
   "outputs": [
    {
     "name": "stdout",
     "output_type": "stream",
     "text": [
      "[1, 2, 3, 4, 5]\n"
     ]
    }
   ],
   "source": [
    "myList = [] # creating an empty list\n",
    "\n",
    "for i in range(5):\n",
    "    myList.append(i + 1)\n",
    "\n",
    "print(myList)"
   ]
  },
  {
   "cell_type": "code",
   "execution_count": 128,
   "id": "345cefaa",
   "metadata": {},
   "outputs": [
    {
     "name": "stdout",
     "output_type": "stream",
     "text": [
      "['durian', 'kiwi', 'mangga', 'apel']\n"
     ]
    }
   ],
   "source": [
    "buah = [\"durian\", \"mangga\", \"apel\"]\n",
    "buah.insert(1,\"kiwi\")\n",
    "print (buah)"
   ]
  },
  {
   "cell_type": "code",
   "execution_count": 129,
   "id": "ffb2d22a",
   "metadata": {},
   "outputs": [
    {
     "name": "stdout",
     "output_type": "stream",
     "text": [
      "4\n",
      "[111, 7, 2, 1]\n",
      "5\n",
      "[111, 7, 2, 1, 4]\n",
      "6\n",
      "[222, 111, 7, 2, 1, 4]\n"
     ]
    }
   ],
   "source": [
    "numbers = [111, 7, 2, 1]\n",
    "print(len(numbers))\n",
    "print(numbers)\n",
    "\n",
    "###\n",
    "\n",
    "numbers.append(4)\n",
    "\n",
    "print(len(numbers))\n",
    "print(numbers)\n",
    "\n",
    "###\n",
    "\n",
    "numbers.insert(0, 222)\n",
    "print(len(numbers))\n",
    "print(numbers)\n",
    "\n",
    "#"
   ]
  },
  {
   "cell_type": "code",
   "execution_count": 130,
   "id": "f7d09c37",
   "metadata": {},
   "outputs": [
    {
     "name": "stdout",
     "output_type": "stream",
     "text": [
      "[5, 3, 2, 1]\n"
     ]
    }
   ],
   "source": [
    "num = [5,4,3,2,1]\n",
    "\n",
    "del num[1]\n",
    "print(num)"
   ]
  },
  {
   "cell_type": "code",
   "execution_count": 153,
   "id": "fb80d627",
   "metadata": {},
   "outputs": [
    {
     "name": "stdout",
     "output_type": "stream",
     "text": [
      "Step 1: []\n",
      "Step 2: ['John Lennon', 'Paul McCartney', 'George Harrison']\n",
      "Step 3: ['John Lennon', 'Paul McCartney', 'George Harrison', '', '']\n",
      "Step 4: ['John Lennon', 'Paul McCartney', 'George Harrison']\n",
      "Step 5: ['Ringo Starr', 'John Lennon', 'Paul McCartney', 'George Harrison']\n",
      "The Fab 4\n"
     ]
    }
   ],
   "source": [
    "# step 1\n",
    "beatles = []\n",
    "print(\"Step 1:\", beatles)\n",
    "\n",
    "# step 2\n",
    "beatles.append(\"John Lennon\")\n",
    "beatles.append(\"Paul McCartney\")\n",
    "beatles.append(\"George Harrison\")\n",
    "print(\"Step 2:\", beatles)\n",
    "\n",
    "# step 3\n",
    "for i in range(2):\n",
    "    nama = input(\"Masukkan anggota baru = \")\n",
    "    beatles.append(nama)\n",
    "print(\"Step 3:\", beatles)\n",
    "\n",
    "# step 4\n",
    "del beatles[-2:]\n",
    "print(\"Step 4:\", beatles)\n",
    "\n",
    "# step 5\n",
    "beatles.insert(0,\"Ringo Starr\")\n",
    "print(\"Step 5:\", beatles)\n",
    "\n",
    "\n",
    "# testing list legth\n",
    "print(\"The Fab\", len(beatles))"
   ]
  },
  {
   "cell_type": "code",
   "execution_count": 132,
   "id": "e58de272",
   "metadata": {},
   "outputs": [
    {
     "name": "stdout",
     "output_type": "stream",
     "text": [
      "[5, 1, 3, 2, 10]\n",
      "[1, 2, 3, 5, 10]\n",
      "[10, 5, 3, 2, 1]\n"
     ]
    }
   ],
   "source": [
    "lst = [5, 1, 3, 2, 10]\n",
    "print(lst)\n",
    "lst.sort()\n",
    "print(lst)\n",
    "lst.reverse()\n",
    "print(lst)"
   ]
  },
  {
   "cell_type": "code",
   "execution_count": 133,
   "id": "a4705faa",
   "metadata": {},
   "outputs": [
    {
     "name": "stdout",
     "output_type": "stream",
     "text": [
      "['car', 'bicycle', 'motor']\n",
      "['bicycle', 'motor']\n",
      "['bicycle', 'motor']\n"
     ]
    }
   ],
   "source": [
    "vehiclesOne = ['car', 'bicycle', 'motor']\n",
    "print(vehiclesOne) # outputs: ['car', 'bicycle', 'motor']\n",
    "\n",
    "vehiclesTwo = vehiclesOne\n",
    "del vehiclesOne[0] # deletes 'car'\n",
    "print(vehiclesTwo) # outputs: ['bicycle', 'motor']\n",
    "print(vehiclesOne)"
   ]
  },
  {
   "cell_type": "code",
   "execution_count": 134,
   "id": "3a30a39b",
   "metadata": {},
   "outputs": [
    {
     "name": "stdout",
     "output_type": "stream",
     "text": [
      "['car', 'bicycle', 'motor']\n",
      "['car', 'bicycle', 'motor']\n",
      "['bicycle', 'motor']\n"
     ]
    }
   ],
   "source": [
    "vehiclesOne = ['car', 'bicycle', 'motor']\n",
    "print(vehiclesOne) # outputs: ['car', 'bicycle', 'motor']\n",
    "\n",
    "vehiclesTwo = vehiclesOne[:]\n",
    "del vehiclesOne[0] # deletes 'car'\n",
    "print(vehiclesTwo) # outputs: ['bicycle', 'motor']\n",
    "print(vehiclesOne)"
   ]
  },
  {
   "cell_type": "code",
   "execution_count": 135,
   "id": "562faf20",
   "metadata": {},
   "outputs": [
    {
     "name": "stdout",
     "output_type": "stream",
     "text": [
      "False\n",
      "Nama Budi ada di list\n"
     ]
    }
   ],
   "source": [
    "nama = [\"Ana\",\"Budi\",\"Citra\"]\n",
    "kata_kunci = \"Budi\"\n",
    "\n",
    "print(kata_kunci not in nama)\n",
    "\n",
    "if kata_kunci in nama:\n",
    "    print(\"Nama \"+kata_kunci+\" ada di list\")"
   ]
  },
  {
   "cell_type": "code",
   "execution_count": 136,
   "id": "e3c47488",
   "metadata": {},
   "outputs": [
    {
     "name": "stdout",
     "output_type": "stream",
     "text": [
      "0 1 2 3 4 5 6 7 8 9 \n",
      "1 2 3 4 5 6 \n",
      "1 3 5 7 9 \n",
      "10 8 6 4 2 0 -2 -4 -6 -8 "
     ]
    }
   ],
   "source": [
    "for i in range(10):\n",
    "    print(i, end=\" \")\n",
    "    \n",
    "print()\n",
    "for i in range(1,7):\n",
    "    print(i, end=\" \")\n",
    "    \n",
    "print()\n",
    "for i in range(1,10,2):\n",
    "    print(i, end=\" \")\n",
    "    \n",
    "print()\n",
    "for i in range(10,-10,-2):\n",
    "    print(i, end=\" \")"
   ]
  },
  {
   "cell_type": "code",
   "execution_count": 137,
   "id": "f0d94594",
   "metadata": {},
   "outputs": [
    {
     "name": "stdout",
     "output_type": "stream",
     "text": [
      "1 3 5 7 9 "
     ]
    }
   ],
   "source": [
    "for i in range(1, 11):\n",
    "    if i%2 != 0:\n",
    "        print(i, end=\" \")"
   ]
  },
  {
   "cell_type": "code",
   "execution_count": 138,
   "id": "3c88a454",
   "metadata": {},
   "outputs": [
    {
     "name": "stdout",
     "output_type": "stream",
     "text": [
      "1 3 5 7 9 "
     ]
    }
   ],
   "source": [
    "x = 1\n",
    "while x < 11:\n",
    "    if x%2!=0:\n",
    "        print(x, end=\" \")\n",
    "    x += 1"
   ]
  },
  {
   "cell_type": "code",
   "execution_count": 139,
   "id": "acc2c24a",
   "metadata": {},
   "outputs": [
    {
     "name": "stdout",
     "output_type": "stream",
     "text": [
      "john.smith"
     ]
    }
   ],
   "source": [
    "for ch in \"john.smith@pythoninstitute.org\":\n",
    "    if ch == \"@\":\n",
    "        break\n",
    "    print(ch,end=\"\")"
   ]
  },
  {
   "cell_type": "code",
   "execution_count": 140,
   "id": "42befaf0",
   "metadata": {},
   "outputs": [
    {
     "name": "stdout",
     "output_type": "stream",
     "text": [
      "x165x318x651x"
     ]
    }
   ],
   "source": [
    "for digit in \"0165031806510\":\n",
    "    if digit == \"0\":\n",
    "        print(\"x\",end=\"\")\n",
    "        continue\n",
    "    print(digit,end=\"\")"
   ]
  },
  {
   "cell_type": "code",
   "execution_count": 141,
   "id": "7b30d232",
   "metadata": {},
   "outputs": [
    {
     "name": "stdout",
     "output_type": "stream",
     "text": [
      "27\n"
     ]
    }
   ],
   "source": [
    "myList = [10, 1, 8, 3, 5]\n",
    "total = 0\n",
    "\n",
    "for i in range(len(myList)):\n",
    "    total += myList[i]\n",
    "\n",
    "print(total)"
   ]
  },
  {
   "cell_type": "code",
   "execution_count": 142,
   "id": "2880ff6d",
   "metadata": {},
   "outputs": [
    {
     "name": "stdout",
     "output_type": "stream",
     "text": [
      "[0, 1, 4, 9, 16, 25, 36, 49, 64, 81]\n"
     ]
    }
   ],
   "source": [
    "#squares = [x ** 2 for x in range(10)]\n",
    "#print (squares)\n",
    "\n",
    "squares = []\n",
    "for x in range(10):\n",
    "    squares.append(x ** 2)\n",
    "print(squares)"
   ]
  },
  {
   "cell_type": "code",
   "execution_count": 143,
   "id": "62965939",
   "metadata": {},
   "outputs": [
    {
     "name": "stdout",
     "output_type": "stream",
     "text": [
      "[1, 2, 4, 8, 16, 32, 64, 128]\n"
     ]
    }
   ],
   "source": [
    "twos = [2 ** i for i in range(8)]\n",
    "print(twos)"
   ]
  },
  {
   "cell_type": "code",
   "execution_count": 144,
   "id": "47070d19",
   "metadata": {},
   "outputs": [
    {
     "name": "stdout",
     "output_type": "stream",
     "text": [
      "[]\n",
      "[]\n"
     ]
    }
   ],
   "source": [
    "squares = []\n",
    "odds = [x for x in squares if x % 2 != 0 ]\n",
    "print (odds)\n",
    "\n",
    "# sama dengan\n",
    "odds = []\n",
    "for x in squares:\n",
    "    if x % 2 != 0:\n",
    "        odds.append(x)\n",
    "print (odds)"
   ]
  },
  {
   "cell_type": "code",
   "execution_count": 145,
   "id": "a0f654c6",
   "metadata": {},
   "outputs": [
    {
     "name": "stdout",
     "output_type": "stream",
     "text": [
      "2\n",
      "[[3, 5, 1], [6, 1, 8], [9, 10, 4]]\n",
      "[6, 1, 8]\n",
      "6\n",
      "[10, 4]\n"
     ]
    }
   ],
   "source": [
    "# Contoh List di dalam List\n",
    "i = [2,3,4,5]\n",
    "print(i[0])\n",
    "\n",
    "k = [[3,5,1],[6,1,8],[9,10,4]]\n",
    "print(k)\n",
    "print(k[1])\n",
    "print(k[1][0])\n",
    "print(k[-1][-2:])"
   ]
  },
  {
   "cell_type": "code",
   "execution_count": 146,
   "id": "fcbba043",
   "metadata": {},
   "outputs": [
    {
     "name": "stdout",
     "output_type": "stream",
     "text": [
      "['-', '-', '-', '-', '-', '-', '-', '-']\n",
      "['-', '-', '-', '-', '-', '-', '-', '-']\n",
      "['-', '-', '-', '-', '-', '-', '-', '-']\n",
      "['-', '-', '-', '-', '-', '-', '-', '-']\n",
      "['-', '-', '-', '-', '-', '-', '-', '-']\n",
      "['-', '-', '-', '-', '-', '-', '-', '-']\n",
      "['-', '-', '-', '-', '-', '-', '-', '-']\n",
      "['-', '-', '-', '-', '-', '-', '-', '-']\n"
     ]
    }
   ],
   "source": [
    "EMPTY = \"-\"\n",
    "board = []\n",
    "\n",
    "for i in range(8):\n",
    "    row = [EMPTY for i in range(8)] #membuat satu list\n",
    "    board.append(row) #membuat 8 list\n",
    "    print(row)\n",
    "#print(board)"
   ]
  },
  {
   "cell_type": "code",
   "execution_count": 147,
   "id": "ecd2e1bd",
   "metadata": {},
   "outputs": [
    {
     "name": "stdout",
     "output_type": "stream",
     "text": [
      "[['ROOK', '-', '-', '-', '-', '-', '-', 'ROOK'], ['-', '-', '-', '-', '-', '-', '-', '-'], ['-', '-', '-', '-', '-', '-', '-', '-'], ['-', '-', '-', '-', 'PAWN', '-', '-', '-'], ['-', '-', 'KNIGHT', '-', '-', '-', '-', '-'], ['-', '-', '-', '-', '-', 'LIMA', '-', '-'], ['-', '-', '-', '-', '-', '-', '-', '-'], ['ROOK', '-', '-', '-', '-', '-', '-', 'ROOK']]\n",
      "\n",
      "\n"
     ]
    }
   ],
   "source": [
    "EMPTY = \"-\"\n",
    "LIMALIMA = \"LIMA\"\n",
    "ROOK = \"ROOK\"\n",
    "KNIGHT = \"KNIGHT\"\n",
    "PAWN = \"PAWN\"\n",
    "board = []\n",
    "\n",
    "for i in range(8):\n",
    "    row = [EMPTY for i in range(8)]\n",
    "    board.append(row)\n",
    "\n",
    "#isi dengan ROOK\n",
    "board[0][0] = ROOK\n",
    "board[5][5] = LIMALIMA\n",
    "board[0][7] = ROOK\n",
    "board[7][0] = ROOK\n",
    "board[7][7] = ROOK\n",
    "\n",
    "#isi dengan KNIGHT\n",
    "board[4][2] = KNIGHT\n",
    "\n",
    "#isi dengan PAWN\n",
    "board[3][4] = PAWN\n",
    "\n",
    "\n",
    "print(board)\n",
    "print(\"\\n\")"
   ]
  },
  {
   "cell_type": "code",
   "execution_count": 148,
   "id": "0fcdd914",
   "metadata": {},
   "outputs": [
    {
     "name": "stdout",
     "output_type": "stream",
     "text": [
      "[[0.0, 0.0], [0.0, 0.0], [0.0, 0.0], [0.0, 0.0]]\n"
     ]
    }
   ],
   "source": [
    "temps = [[0.0 for h in range(2)] for d in range(4)]\n",
    "print (temps)"
   ]
  },
  {
   "cell_type": "code",
   "execution_count": 149,
   "id": "b2cc1bb9",
   "metadata": {},
   "outputs": [
    {
     "name": "stdout",
     "output_type": "stream",
     "text": [
      "Average temperature at noon: 0.0\n",
      "The highest temperature was: 0.0\n",
      "0 days were hot.\n"
     ]
    }
   ],
   "source": [
    "temps = [[0.0 for h in range(24)] for d in range(31)]\n",
    "\n",
    "# 1. the monthly average noon temperature\n",
    "sum = 0.0\n",
    "\n",
    "for day in temps:\n",
    "    sum += day[11]\n",
    "\n",
    "average = sum / 31\n",
    "\n",
    "print(\"Average temperature at noon:\", average)\n",
    "\n",
    "# 2. the highest temperature during the whole month \n",
    "highest = -100.0\n",
    "\n",
    "for day in temps:\n",
    "    for temp in day:\n",
    "        if temp > highest:\n",
    "            highest = temp\n",
    "\n",
    "print(\"The highest temperature was:\", highest)\n",
    "\n",
    "# 3.count the days when the temperature at noon was at least 20 ℃\n",
    "hotDays = 0\n",
    "\n",
    "for day in temps:\n",
    "    if day[11] > 20.0:\n",
    "        hotDays += 1\n",
    "\n",
    "print(hotDays, \"days were hot.\")"
   ]
  },
  {
   "cell_type": "code",
   "execution_count": 150,
   "id": "d64b844a",
   "metadata": {},
   "outputs": [
    {
     "name": "stdout",
     "output_type": "stream",
     "text": [
      "[[[False, False], [False, False], [False, False]], [[False, False], [False, False], [False, False]], [[False, False], [False, False], [False, False]], [[False, False], [False, False], [False, False]]]\n"
     ]
    }
   ],
   "source": [
    "rooms = [[[False for r in range(2)] for f in range(3)] for t in range(4)]\n",
    "print (rooms)"
   ]
  },
  {
   "cell_type": "code",
   "execution_count": 151,
   "id": "bd1c0173",
   "metadata": {},
   "outputs": [
    {
     "name": "stdout",
     "output_type": "stream",
     "text": [
      "[[[False, False, False, False, False, False, False, False, False, False, False, False, False, False, False, False, False, False, False, False], [False, False, False, False, False, False, False, False, False, False, False, False, False, False, False, False, False, False, False, False], [False, False, False, False, False, False, False, False, False, False, False, False, False, False, False, False, False, False, False, False], [False, False, False, False, False, False, False, False, False, False, False, False, False, False, False, False, False, False, False, False], [False, False, False, False, False, False, False, False, False, False, False, False, False, False, False, False, False, False, False, False], [False, False, False, False, False, False, False, False, False, False, False, False, False, False, False, False, False, False, False, False], [False, False, False, False, False, False, False, False, False, False, False, False, False, False, False, False, False, False, False, False], [False, False, False, False, False, False, False, False, False, False, False, False, False, False, False, False, False, False, False, False], [False, False, False, False, False, False, False, False, False, False, False, False, False, False, False, False, False, False, False, False], [False, False, False, False, False, False, False, False, False, False, False, False, False, False, False, False, False, False, False, False], [False, False, False, False, False, False, False, False, False, False, False, False, False, False, False, False, False, False, False, False], [False, False, False, False, False, False, False, False, False, False, False, False, False, False, False, False, False, False, False, False], [False, False, False, False, False, False, False, False, False, False, False, False, False, False, False, False, False, False, False, False], [False, False, False, False, False, False, False, False, False, False, False, False, False, False, False, False, False, False, False, False], [False, False, False, False, False, False, False, False, False, False, False, False, False, False, False, False, False, False, False, False]], [[False, False, False, False, False, False, False, False, False, False, False, False, False, False, False, False, False, False, False, False], [False, False, False, False, False, False, False, False, False, False, False, False, False, False, False, False, False, False, False, False], [False, False, False, False, False, False, False, False, False, False, False, False, False, False, False, False, False, False, False, False], [False, False, False, False, False, False, False, False, False, False, False, False, False, False, False, False, False, False, False, False], [False, False, False, False, False, False, False, False, False, False, False, False, False, False, False, False, False, False, False, False], [False, False, False, False, False, False, False, False, False, False, False, False, False, False, False, False, False, False, False, False], [False, False, False, False, False, False, False, False, False, False, False, False, False, False, False, False, False, False, False, False], [False, False, False, False, False, False, False, False, False, False, False, False, False, False, False, False, False, False, False, False], [False, False, False, False, False, False, False, False, False, False, False, False, False, False, False, False, False, False, False, False], [False, False, False, False, False, False, False, False, False, False, False, False, False, True, False, False, False, False, False, False], [False, False, False, False, False, False, False, False, False, False, False, False, False, False, False, False, False, False, False, False], [False, False, False, False, False, False, False, False, False, False, False, False, False, False, False, False, False, False, False, False], [False, False, False, False, False, False, False, False, False, False, False, False, False, False, False, False, False, False, False, False], [False, False, False, False, False, False, False, False, False, False, False, False, False, False, False, False, False, False, False, False], [False, False, False, False, False, False, False, False, False, False, False, False, False, False, False, False, False, False, False, False]], [[False, False, False, False, False, False, False, False, False, False, False, False, False, False, False, False, False, False, False, False], [False, False, False, False, False, False, False, False, False, False, False, False, False, False, False, False, False, False, False, False], [False, False, False, False, False, False, False, False, False, False, False, False, False, False, False, False, False, False, False, False], [False, False, False, False, False, False, False, False, False, False, False, False, False, False, False, False, False, False, False, False], [False, False, False, False, False, False, False, False, False, False, False, False, False, False, False, False, False, False, False, False], [False, False, False, False, False, False, False, False, False, False, False, False, False, False, False, False, False, False, False, False], [False, False, False, False, False, False, False, False, False, False, False, False, False, False, False, False, False, False, False, False], [False, False, False, False, False, False, False, False, False, False, False, False, False, False, False, False, False, False, False, False], [False, False, False, False, False, False, False, False, False, False, False, False, False, False, False, False, False, False, False, False], [False, False, False, False, False, False, False, False, False, False, False, False, False, False, False, False, False, False, False, False], [False, False, False, False, False, False, False, False, False, False, False, False, False, False, False, False, False, False, False, False], [False, False, False, False, False, False, False, False, False, False, False, False, False, False, False, False, False, False, False, False], [False, False, False, False, False, False, False, False, False, False, False, False, False, False, False, False, False, False, False, False], [False, False, False, False, False, False, False, False, False, False, False, False, False, False, False, False, False, False, False, False], [False, False, False, False, False, False, False, False, False, False, False, False, False, False, False, False, False, False, False, False]]]\n",
      "19\n"
     ]
    }
   ],
   "source": [
    "rooms = [[[False for r in range(20)] for f in range(15)] for t in range(3)]\n",
    "\n",
    "rooms[1][9][13] = True\n",
    "rooms[0][4][1] = False\n",
    "\n",
    "print(rooms)\n",
    "\n",
    "vacancy = 0\n",
    "\n",
    "for roomNumber in range(20):\n",
    "    if not rooms[2][14][roomNumber]:\n",
    "        vacancy += 1\n",
    "        \n",
    "print(roomNumber)"
   ]
  }
 ],
 "metadata": {
  "kernelspec": {
   "display_name": "base",
   "language": "python",
   "name": "python3"
  },
  "language_info": {
   "codemirror_mode": {
    "name": "ipython",
    "version": 3
   },
   "file_extension": ".py",
   "mimetype": "text/x-python",
   "name": "python",
   "nbconvert_exporter": "python",
   "pygments_lexer": "ipython3",
   "version": "3.12.7"
  }
 },
 "nbformat": 4,
 "nbformat_minor": 5
}
